{
  "nbformat": 4,
  "nbformat_minor": 0,
  "metadata": {
    "colab": {
      "name": "Chapter1 - MLP - Criteo.ipynb",
      "provenance": [],
      "collapsed_sections": [],
      "include_colab_link": true
    },
    "kernelspec": {
      "name": "python3",
      "display_name": "Python 3"
    }
  },
  "cells": [
    {
      "cell_type": "markdown",
      "metadata": {
        "id": "view-in-github",
        "colab_type": "text"
      },
      "source": [
        "<a href=\"https://colab.research.google.com/github/fantajeon/DLPytorch1.2/blob/master/Chapter1_MLP_Criteo.ipynb\" target=\"_parent\"><img src=\"https://colab.research.google.com/assets/colab-badge.svg\" alt=\"Open In Colab\"/></a>"
      ]
    },
    {
      "cell_type": "markdown",
      "metadata": {
        "id": "1Hd4CuD8Df8_",
        "colab_type": "text"
      },
      "source": [
        "# Criteo MLP #\n",
        "Author: fantajeon@gmail.com\n",
        "\n",
        "Criteo는 Kaggle 사이트통해서 공개한 데이터 셋입니다. 이 데이터의 목적은 사용자의 click을 예측하는 데이터 셋입니다. 라벨과 특징으로 구성되어 있습니다. 이 데이터셋의 특징은 특징에 대한 특별한 설명을 하지 않습니다. 보안때문이라고 이야기 했습니다. 그래서 딥러닝 개발자들이 즐겨 쓰는 데이터셋입니다. 아무런 도메인 설명도 하지 않았지만, 성능을 내기 때문입니다.\n",
        "최신 트렌드 [성능 표](https://paperswithcode.com/paper/xdeepfm-combining-explicit-and-implicit#code)를 참조하세요.\n",
        "\n",
        "라벨: \n",
        "*   1 - 클릭했다.\n",
        "*   0 - 클릭 안 했다.\n",
        "\n",
        "특징:\n",
        "* I1-I13: 연속 특징\n",
        "* C1-C24: 카테고리 특징"
      ]
    },
    {
      "cell_type": "code",
      "metadata": {
        "id": "dyPJ0TsMhMKv",
        "colab_type": "code",
        "colab": {
          "base_uri": "https://localhost:8080/",
          "height": 731
        },
        "outputId": "5e8c360c-f6c3-4f56-ad09-2b9d34fc5a33"
      },
      "source": [
        "!pip install --upgrade torch==1.2.0\n",
        "!pip install torchnet\n"
      ],
      "execution_count": 69,
      "outputs": [
        {
          "output_type": "stream",
          "text": [
            "Requirement already up-to-date: torch==1.2.0 in /usr/local/lib/python3.6/dist-packages (1.2.0)\n",
            "Requirement already satisfied, skipping upgrade: numpy in /usr/local/lib/python3.6/dist-packages (from torch==1.2.0) (1.16.5)\n",
            "Collecting torchnet\n",
            "  Downloading https://files.pythonhosted.org/packages/b7/b2/d7f70a85d3f6b0365517782632f150e3bbc2fb8e998cd69e27deba599aae/torchnet-0.0.4.tar.gz\n",
            "Requirement already satisfied: torch in /usr/local/lib/python3.6/dist-packages (from torchnet) (1.2.0)\n",
            "Requirement already satisfied: six in /usr/local/lib/python3.6/dist-packages (from torchnet) (1.12.0)\n",
            "Collecting visdom (from torchnet)\n",
            "\u001b[?25l  Downloading https://files.pythonhosted.org/packages/c9/75/e078f5a2e1df7e0d3044749089fc2823e62d029cc027ed8ae5d71fafcbdc/visdom-0.1.8.9.tar.gz (676kB)\n",
            "\u001b[K     |████████████████████████████████| 686kB 7.9MB/s \n",
            "\u001b[?25hRequirement already satisfied: numpy in /usr/local/lib/python3.6/dist-packages (from torch->torchnet) (1.16.5)\n",
            "Requirement already satisfied: scipy in /usr/local/lib/python3.6/dist-packages (from visdom->torchnet) (1.3.1)\n",
            "Requirement already satisfied: requests in /usr/local/lib/python3.6/dist-packages (from visdom->torchnet) (2.21.0)\n",
            "Requirement already satisfied: tornado in /usr/local/lib/python3.6/dist-packages (from visdom->torchnet) (4.5.3)\n",
            "Requirement already satisfied: pyzmq in /usr/local/lib/python3.6/dist-packages (from visdom->torchnet) (17.0.0)\n",
            "Collecting jsonpatch (from visdom->torchnet)\n",
            "  Downloading https://files.pythonhosted.org/packages/86/7e/035d19a73306278673039f0805b863be8798057cc1b4008b9c8c7d1d32a3/jsonpatch-1.24-py2.py3-none-any.whl\n",
            "Collecting torchfile (from visdom->torchnet)\n",
            "  Downloading https://files.pythonhosted.org/packages/91/af/5b305f86f2d218091af657ddb53f984ecbd9518ca9fe8ef4103a007252c9/torchfile-0.1.0.tar.gz\n",
            "Collecting websocket-client (from visdom->torchnet)\n",
            "\u001b[?25l  Downloading https://files.pythonhosted.org/packages/29/19/44753eab1fdb50770ac69605527e8859468f3c0fd7dc5a76dd9c4dbd7906/websocket_client-0.56.0-py2.py3-none-any.whl (200kB)\n",
            "\u001b[K     |████████████████████████████████| 204kB 45.8MB/s \n",
            "\u001b[?25hRequirement already satisfied: pillow in /usr/local/lib/python3.6/dist-packages (from visdom->torchnet) (4.3.0)\n",
            "Requirement already satisfied: idna<2.9,>=2.5 in /usr/local/lib/python3.6/dist-packages (from requests->visdom->torchnet) (2.8)\n",
            "Requirement already satisfied: certifi>=2017.4.17 in /usr/local/lib/python3.6/dist-packages (from requests->visdom->torchnet) (2019.6.16)\n",
            "Requirement already satisfied: urllib3<1.25,>=1.21.1 in /usr/local/lib/python3.6/dist-packages (from requests->visdom->torchnet) (1.24.3)\n",
            "Requirement already satisfied: chardet<3.1.0,>=3.0.2 in /usr/local/lib/python3.6/dist-packages (from requests->visdom->torchnet) (3.0.4)\n",
            "Collecting jsonpointer>=1.9 (from jsonpatch->visdom->torchnet)\n",
            "  Downloading https://files.pythonhosted.org/packages/18/b0/a80d29577c08eea401659254dfaed87f1af45272899e1812d7e01b679bc5/jsonpointer-2.0-py2.py3-none-any.whl\n",
            "Requirement already satisfied: olefile in /usr/local/lib/python3.6/dist-packages (from pillow->visdom->torchnet) (0.46)\n",
            "Building wheels for collected packages: torchnet, visdom, torchfile\n",
            "  Building wheel for torchnet (setup.py) ... \u001b[?25l\u001b[?25hdone\n",
            "  Created wheel for torchnet: filename=torchnet-0.0.4-cp36-none-any.whl size=29743 sha256=3a808bce518a7ce95ab1ebd7bee3d0947680ca73cbe662cc43ba78bfac50de09\n",
            "  Stored in directory: /root/.cache/pip/wheels/e1/03/fb/1c212c2f20905cdf97fe39022946cf16b8e66ed754a6663400\n",
            "  Building wheel for visdom (setup.py) ... \u001b[?25l\u001b[?25hdone\n",
            "  Created wheel for visdom: filename=visdom-0.1.8.9-cp36-none-any.whl size=655252 sha256=e1f3616ffbe99fec7e5156cf9e94317401e7dc99382739c8560b49e14f18d313\n",
            "  Stored in directory: /root/.cache/pip/wheels/70/19/a7/6d589ed967f4dfefd33bc166d081257bd4ed0cb618dccfd62a\n",
            "  Building wheel for torchfile (setup.py) ... \u001b[?25l\u001b[?25hdone\n",
            "  Created wheel for torchfile: filename=torchfile-0.1.0-cp36-none-any.whl size=5711 sha256=40183ce2e7ebe4504d05c2983dcff22c2ce86edb8437e9d9b1dd145df3c7a670\n",
            "  Stored in directory: /root/.cache/pip/wheels/b1/c3/d6/9a1cc8f3a99a0fc1124cae20153f36af59a6e683daca0a0814\n",
            "Successfully built torchnet visdom torchfile\n",
            "Installing collected packages: jsonpointer, jsonpatch, torchfile, websocket-client, visdom, torchnet\n",
            "Successfully installed jsonpatch-1.24 jsonpointer-2.0 torchfile-0.1.0 torchnet-0.0.4 visdom-0.1.8.9 websocket-client-0.56.0\n"
          ],
          "name": "stdout"
        }
      ]
    },
    {
      "cell_type": "code",
      "metadata": {
        "id": "V1aqKV7K2tt9",
        "colab_type": "code",
        "colab": {
          "base_uri": "https://localhost:8080/",
          "height": 34
        },
        "outputId": "55f19161-0db9-4985-8998-e70b5b35994f"
      },
      "source": [
        "import torch\n",
        "from torch import nn\n",
        "import torch.optim\n",
        "import torch.nn.functional as F\n",
        "import pandas as pd\n",
        "import numpy as np\n",
        "import torch.utils.data as data\n",
        "from IPython.core.debugger import set_trace\n",
        "import torchnet.meter as meter\n",
        "torch.__version__\n"
      ],
      "execution_count": 70,
      "outputs": [
        {
          "output_type": "execute_result",
          "data": {
            "text/plain": [
              "'1.2.0'"
            ]
          },
          "metadata": {
            "tags": []
          },
          "execution_count": 70
        }
      ]
    },
    {
      "cell_type": "code",
      "metadata": {
        "id": "BbJswM4pFlDQ",
        "colab_type": "code",
        "colab": {}
      },
      "source": [
        "!wget -q https://raw.githubusercontent.com/ycjuan/kaggle-2014-criteo/master/train.tiny.csv -O ./train.csv\n",
        "!wget -q https://github.com/fantajeon/DLPytorch1.2_Materials/raw/master/test_tiny.csv -O ./test.csv"
      ],
      "execution_count": 0,
      "outputs": []
    },
    {
      "cell_type": "code",
      "metadata": {
        "id": "Jvdz0qQvHA1x",
        "colab_type": "code",
        "colab": {
          "base_uri": "https://localhost:8080/",
          "height": 241
        },
        "outputId": "bec2c203-1e32-46c4-f30b-363d11efb2a0"
      },
      "source": [
        "test_data = pd.read_csv(\"test.csv\", header=None)\n",
        "train_data = pd.read_csv(\"train.csv\")\n",
        "train_data = train_data.iloc[:,1:]\n",
        "print(\"len(train)\", train_data.shape, \"len(test)\", test_data.shape)\n",
        "train_data.head(5)\n"
      ],
      "execution_count": 99,
      "outputs": [
        {
          "output_type": "stream",
          "text": [
            "len(train) (1999, 40) len(test) (10000, 40)\n"
          ],
          "name": "stdout"
        },
        {
          "output_type": "execute_result",
          "data": {
            "text/html": [
              "<div>\n",
              "<style scoped>\n",
              "    .dataframe tbody tr th:only-of-type {\n",
              "        vertical-align: middle;\n",
              "    }\n",
              "\n",
              "    .dataframe tbody tr th {\n",
              "        vertical-align: top;\n",
              "    }\n",
              "\n",
              "    .dataframe thead th {\n",
              "        text-align: right;\n",
              "    }\n",
              "</style>\n",
              "<table border=\"1\" class=\"dataframe\">\n",
              "  <thead>\n",
              "    <tr style=\"text-align: right;\">\n",
              "      <th></th>\n",
              "      <th>Label</th>\n",
              "      <th>I1</th>\n",
              "      <th>I2</th>\n",
              "      <th>I3</th>\n",
              "      <th>I4</th>\n",
              "      <th>I5</th>\n",
              "      <th>I6</th>\n",
              "      <th>I7</th>\n",
              "      <th>I8</th>\n",
              "      <th>I9</th>\n",
              "      <th>I10</th>\n",
              "      <th>I11</th>\n",
              "      <th>I12</th>\n",
              "      <th>I13</th>\n",
              "      <th>C1</th>\n",
              "      <th>C2</th>\n",
              "      <th>C3</th>\n",
              "      <th>C4</th>\n",
              "      <th>C5</th>\n",
              "      <th>C6</th>\n",
              "      <th>C7</th>\n",
              "      <th>C8</th>\n",
              "      <th>C9</th>\n",
              "      <th>C10</th>\n",
              "      <th>C11</th>\n",
              "      <th>C12</th>\n",
              "      <th>C13</th>\n",
              "      <th>C14</th>\n",
              "      <th>C15</th>\n",
              "      <th>C16</th>\n",
              "      <th>C17</th>\n",
              "      <th>C18</th>\n",
              "      <th>C19</th>\n",
              "      <th>C20</th>\n",
              "      <th>C21</th>\n",
              "      <th>C22</th>\n",
              "      <th>C23</th>\n",
              "      <th>C24</th>\n",
              "      <th>C25</th>\n",
              "      <th>C26</th>\n",
              "    </tr>\n",
              "  </thead>\n",
              "  <tbody>\n",
              "    <tr>\n",
              "      <th>0</th>\n",
              "      <td>0</td>\n",
              "      <td>1.0</td>\n",
              "      <td>1</td>\n",
              "      <td>5.0</td>\n",
              "      <td>0.0</td>\n",
              "      <td>1382.0</td>\n",
              "      <td>4.0</td>\n",
              "      <td>15.0</td>\n",
              "      <td>2.0</td>\n",
              "      <td>181.0</td>\n",
              "      <td>1.0</td>\n",
              "      <td>2.0</td>\n",
              "      <td>NaN</td>\n",
              "      <td>2.0</td>\n",
              "      <td>68fd1e64</td>\n",
              "      <td>80e26c9b</td>\n",
              "      <td>fb936136</td>\n",
              "      <td>7b4723c4</td>\n",
              "      <td>25c83c98</td>\n",
              "      <td>7e0ccccf</td>\n",
              "      <td>de7995b8</td>\n",
              "      <td>1f89b562</td>\n",
              "      <td>a73ee510</td>\n",
              "      <td>a8cd5504</td>\n",
              "      <td>b2cb9c98</td>\n",
              "      <td>37c9c164</td>\n",
              "      <td>2824a5f6</td>\n",
              "      <td>1adce6ef</td>\n",
              "      <td>8ba8b39a</td>\n",
              "      <td>891b62e7</td>\n",
              "      <td>e5ba7672</td>\n",
              "      <td>f54016b9</td>\n",
              "      <td>21ddcdc9</td>\n",
              "      <td>b1252a9d</td>\n",
              "      <td>07b5194c</td>\n",
              "      <td>NaN</td>\n",
              "      <td>3a171ecb</td>\n",
              "      <td>c5c50484</td>\n",
              "      <td>e8b83407</td>\n",
              "      <td>9727dd16</td>\n",
              "    </tr>\n",
              "    <tr>\n",
              "      <th>1</th>\n",
              "      <td>0</td>\n",
              "      <td>2.0</td>\n",
              "      <td>0</td>\n",
              "      <td>44.0</td>\n",
              "      <td>1.0</td>\n",
              "      <td>102.0</td>\n",
              "      <td>8.0</td>\n",
              "      <td>2.0</td>\n",
              "      <td>2.0</td>\n",
              "      <td>4.0</td>\n",
              "      <td>1.0</td>\n",
              "      <td>1.0</td>\n",
              "      <td>NaN</td>\n",
              "      <td>4.0</td>\n",
              "      <td>68fd1e64</td>\n",
              "      <td>f0cf0024</td>\n",
              "      <td>6f67f7e5</td>\n",
              "      <td>41274cd7</td>\n",
              "      <td>25c83c98</td>\n",
              "      <td>fe6b92e5</td>\n",
              "      <td>922afcc0</td>\n",
              "      <td>0b153874</td>\n",
              "      <td>a73ee510</td>\n",
              "      <td>2b53e5fb</td>\n",
              "      <td>4f1b46f3</td>\n",
              "      <td>623049e6</td>\n",
              "      <td>d7020589</td>\n",
              "      <td>b28479f6</td>\n",
              "      <td>e6c5b5cd</td>\n",
              "      <td>c92f3b61</td>\n",
              "      <td>07c540c4</td>\n",
              "      <td>b04e4670</td>\n",
              "      <td>21ddcdc9</td>\n",
              "      <td>5840adea</td>\n",
              "      <td>60f6221e</td>\n",
              "      <td>NaN</td>\n",
              "      <td>3a171ecb</td>\n",
              "      <td>43f13e8b</td>\n",
              "      <td>e8b83407</td>\n",
              "      <td>731c3655</td>\n",
              "    </tr>\n",
              "    <tr>\n",
              "      <th>2</th>\n",
              "      <td>0</td>\n",
              "      <td>2.0</td>\n",
              "      <td>0</td>\n",
              "      <td>1.0</td>\n",
              "      <td>14.0</td>\n",
              "      <td>767.0</td>\n",
              "      <td>89.0</td>\n",
              "      <td>4.0</td>\n",
              "      <td>2.0</td>\n",
              "      <td>245.0</td>\n",
              "      <td>1.0</td>\n",
              "      <td>3.0</td>\n",
              "      <td>3.0</td>\n",
              "      <td>45.0</td>\n",
              "      <td>287e684f</td>\n",
              "      <td>0a519c5c</td>\n",
              "      <td>02cf9876</td>\n",
              "      <td>c18be181</td>\n",
              "      <td>25c83c98</td>\n",
              "      <td>7e0ccccf</td>\n",
              "      <td>c78204a1</td>\n",
              "      <td>0b153874</td>\n",
              "      <td>a73ee510</td>\n",
              "      <td>3b08e48b</td>\n",
              "      <td>5f5e6091</td>\n",
              "      <td>8fe001f4</td>\n",
              "      <td>aa655a2f</td>\n",
              "      <td>07d13a8f</td>\n",
              "      <td>6dc710ed</td>\n",
              "      <td>36103458</td>\n",
              "      <td>8efede7f</td>\n",
              "      <td>3412118d</td>\n",
              "      <td>NaN</td>\n",
              "      <td>NaN</td>\n",
              "      <td>e587c466</td>\n",
              "      <td>ad3062eb</td>\n",
              "      <td>3a171ecb</td>\n",
              "      <td>3b183c5c</td>\n",
              "      <td>NaN</td>\n",
              "      <td>NaN</td>\n",
              "    </tr>\n",
              "    <tr>\n",
              "      <th>3</th>\n",
              "      <td>0</td>\n",
              "      <td>NaN</td>\n",
              "      <td>893</td>\n",
              "      <td>NaN</td>\n",
              "      <td>NaN</td>\n",
              "      <td>4392.0</td>\n",
              "      <td>NaN</td>\n",
              "      <td>0.0</td>\n",
              "      <td>0.0</td>\n",
              "      <td>0.0</td>\n",
              "      <td>NaN</td>\n",
              "      <td>0.0</td>\n",
              "      <td>NaN</td>\n",
              "      <td>NaN</td>\n",
              "      <td>68fd1e64</td>\n",
              "      <td>2c16a946</td>\n",
              "      <td>a9a87e68</td>\n",
              "      <td>2e17d6f6</td>\n",
              "      <td>25c83c98</td>\n",
              "      <td>fe6b92e5</td>\n",
              "      <td>2e8a689b</td>\n",
              "      <td>0b153874</td>\n",
              "      <td>a73ee510</td>\n",
              "      <td>efea433b</td>\n",
              "      <td>e51ddf94</td>\n",
              "      <td>a30567ca</td>\n",
              "      <td>3516f6e6</td>\n",
              "      <td>07d13a8f</td>\n",
              "      <td>18231224</td>\n",
              "      <td>52b8680f</td>\n",
              "      <td>1e88c74f</td>\n",
              "      <td>74ef3502</td>\n",
              "      <td>NaN</td>\n",
              "      <td>NaN</td>\n",
              "      <td>6b3a5ca6</td>\n",
              "      <td>NaN</td>\n",
              "      <td>3a171ecb</td>\n",
              "      <td>9117a34a</td>\n",
              "      <td>NaN</td>\n",
              "      <td>NaN</td>\n",
              "    </tr>\n",
              "    <tr>\n",
              "      <th>4</th>\n",
              "      <td>0</td>\n",
              "      <td>3.0</td>\n",
              "      <td>-1</td>\n",
              "      <td>NaN</td>\n",
              "      <td>0.0</td>\n",
              "      <td>2.0</td>\n",
              "      <td>0.0</td>\n",
              "      <td>3.0</td>\n",
              "      <td>0.0</td>\n",
              "      <td>0.0</td>\n",
              "      <td>1.0</td>\n",
              "      <td>1.0</td>\n",
              "      <td>NaN</td>\n",
              "      <td>0.0</td>\n",
              "      <td>8cf07265</td>\n",
              "      <td>ae46a29d</td>\n",
              "      <td>c81688bb</td>\n",
              "      <td>f922efad</td>\n",
              "      <td>25c83c98</td>\n",
              "      <td>13718bbd</td>\n",
              "      <td>ad9fa255</td>\n",
              "      <td>0b153874</td>\n",
              "      <td>a73ee510</td>\n",
              "      <td>5282c137</td>\n",
              "      <td>e5d8af57</td>\n",
              "      <td>66a76a26</td>\n",
              "      <td>f06c53ac</td>\n",
              "      <td>1adce6ef</td>\n",
              "      <td>8ff4b403</td>\n",
              "      <td>01adbab4</td>\n",
              "      <td>1e88c74f</td>\n",
              "      <td>26b3c7a7</td>\n",
              "      <td>NaN</td>\n",
              "      <td>NaN</td>\n",
              "      <td>21c9516a</td>\n",
              "      <td>NaN</td>\n",
              "      <td>32c7478e</td>\n",
              "      <td>b34f3128</td>\n",
              "      <td>NaN</td>\n",
              "      <td>NaN</td>\n",
              "    </tr>\n",
              "  </tbody>\n",
              "</table>\n",
              "</div>"
            ],
            "text/plain": [
              "   Label   I1   I2    I3  ...       C23       C24       C25       C26\n",
              "0      0  1.0    1   5.0  ...  3a171ecb  c5c50484  e8b83407  9727dd16\n",
              "1      0  2.0    0  44.0  ...  3a171ecb  43f13e8b  e8b83407  731c3655\n",
              "2      0  2.0    0   1.0  ...  3a171ecb  3b183c5c       NaN       NaN\n",
              "3      0  NaN  893   NaN  ...  3a171ecb  9117a34a       NaN       NaN\n",
              "4      0  3.0   -1   NaN  ...  32c7478e  b34f3128       NaN       NaN\n",
              "\n",
              "[5 rows x 40 columns]"
            ]
          },
          "metadata": {
            "tags": []
          },
          "execution_count": 99
        }
      ]
    },
    {
      "cell_type": "code",
      "metadata": {
        "id": "EB8R7yp9C8ov",
        "colab_type": "code",
        "colab": {
          "base_uri": "https://localhost:8080/",
          "height": 224
        },
        "outputId": "7dfc5d7a-8e5c-4b3c-9b89-fb6866312847"
      },
      "source": [
        "test_data.head(5)"
      ],
      "execution_count": 96,
      "outputs": [
        {
          "output_type": "execute_result",
          "data": {
            "text/html": [
              "<div>\n",
              "<style scoped>\n",
              "    .dataframe tbody tr th:only-of-type {\n",
              "        vertical-align: middle;\n",
              "    }\n",
              "\n",
              "    .dataframe tbody tr th {\n",
              "        vertical-align: top;\n",
              "    }\n",
              "\n",
              "    .dataframe thead th {\n",
              "        text-align: right;\n",
              "    }\n",
              "</style>\n",
              "<table border=\"1\" class=\"dataframe\">\n",
              "  <thead>\n",
              "    <tr style=\"text-align: right;\">\n",
              "      <th></th>\n",
              "      <th>0</th>\n",
              "      <th>1</th>\n",
              "      <th>2</th>\n",
              "      <th>3</th>\n",
              "      <th>4</th>\n",
              "      <th>5</th>\n",
              "      <th>6</th>\n",
              "      <th>7</th>\n",
              "      <th>8</th>\n",
              "      <th>9</th>\n",
              "      <th>10</th>\n",
              "      <th>11</th>\n",
              "      <th>12</th>\n",
              "      <th>13</th>\n",
              "      <th>14</th>\n",
              "      <th>15</th>\n",
              "      <th>16</th>\n",
              "      <th>17</th>\n",
              "      <th>18</th>\n",
              "      <th>19</th>\n",
              "      <th>20</th>\n",
              "      <th>21</th>\n",
              "      <th>22</th>\n",
              "      <th>23</th>\n",
              "      <th>24</th>\n",
              "      <th>25</th>\n",
              "      <th>26</th>\n",
              "      <th>27</th>\n",
              "      <th>28</th>\n",
              "      <th>29</th>\n",
              "      <th>30</th>\n",
              "      <th>31</th>\n",
              "      <th>32</th>\n",
              "      <th>33</th>\n",
              "      <th>34</th>\n",
              "      <th>35</th>\n",
              "      <th>36</th>\n",
              "      <th>37</th>\n",
              "      <th>38</th>\n",
              "      <th>39</th>\n",
              "    </tr>\n",
              "  </thead>\n",
              "  <tbody>\n",
              "    <tr>\n",
              "      <th>0</th>\n",
              "      <td>1</td>\n",
              "      <td>NaN</td>\n",
              "      <td>0</td>\n",
              "      <td>4.0</td>\n",
              "      <td>1.0</td>\n",
              "      <td>17714.0</td>\n",
              "      <td>66.0</td>\n",
              "      <td>2.0</td>\n",
              "      <td>11.0</td>\n",
              "      <td>62.0</td>\n",
              "      <td>NaN</td>\n",
              "      <td>1.0</td>\n",
              "      <td>NaN</td>\n",
              "      <td>1.0</td>\n",
              "      <td>24eda356</td>\n",
              "      <td>207b2d81</td>\n",
              "      <td>6a061171</td>\n",
              "      <td>ef6ae422</td>\n",
              "      <td>25c83c98</td>\n",
              "      <td>6f6d9be8</td>\n",
              "      <td>b5043bcd</td>\n",
              "      <td>0b153874</td>\n",
              "      <td>a73ee510</td>\n",
              "      <td>b78f3a55</td>\n",
              "      <td>371dae82</td>\n",
              "      <td>2dad7b23</td>\n",
              "      <td>18fc2b1e</td>\n",
              "      <td>07d13a8f</td>\n",
              "      <td>0c67c4ca</td>\n",
              "      <td>722ee340</td>\n",
              "      <td>d4bb7bd8</td>\n",
              "      <td>395856b0</td>\n",
              "      <td>21ddcdc9</td>\n",
              "      <td>b1252a9d</td>\n",
              "      <td>aec73e74</td>\n",
              "      <td>NaN</td>\n",
              "      <td>32c7478e</td>\n",
              "      <td>215dcc2f</td>\n",
              "      <td>001f3601</td>\n",
              "      <td>05051329</td>\n",
              "    </tr>\n",
              "    <tr>\n",
              "      <th>1</th>\n",
              "      <td>0</td>\n",
              "      <td>10.0</td>\n",
              "      <td>12</td>\n",
              "      <td>19.0</td>\n",
              "      <td>30.0</td>\n",
              "      <td>4.0</td>\n",
              "      <td>30.0</td>\n",
              "      <td>10.0</td>\n",
              "      <td>30.0</td>\n",
              "      <td>30.0</td>\n",
              "      <td>1.0</td>\n",
              "      <td>1.0</td>\n",
              "      <td>NaN</td>\n",
              "      <td>30.0</td>\n",
              "      <td>05db9164</td>\n",
              "      <td>e5fb1af3</td>\n",
              "      <td>50f62395</td>\n",
              "      <td>e3b436dd</td>\n",
              "      <td>4cf72387</td>\n",
              "      <td>7e0ccccf</td>\n",
              "      <td>095d6b9e</td>\n",
              "      <td>0b153874</td>\n",
              "      <td>a73ee510</td>\n",
              "      <td>94c7e002</td>\n",
              "      <td>8f736c02</td>\n",
              "      <td>b735321f</td>\n",
              "      <td>954f731f</td>\n",
              "      <td>b28479f6</td>\n",
              "      <td>23287566</td>\n",
              "      <td>76a47423</td>\n",
              "      <td>e5ba7672</td>\n",
              "      <td>13145934</td>\n",
              "      <td>0053530c</td>\n",
              "      <td>b1252a9d</td>\n",
              "      <td>d4815352</td>\n",
              "      <td>NaN</td>\n",
              "      <td>bcdee96c</td>\n",
              "      <td>2ef19589</td>\n",
              "      <td>f7839e21</td>\n",
              "      <td>eadff93b</td>\n",
              "    </tr>\n",
              "    <tr>\n",
              "      <th>2</th>\n",
              "      <td>1</td>\n",
              "      <td>NaN</td>\n",
              "      <td>6</td>\n",
              "      <td>116.0</td>\n",
              "      <td>10.0</td>\n",
              "      <td>27329.0</td>\n",
              "      <td>NaN</td>\n",
              "      <td>0.0</td>\n",
              "      <td>29.0</td>\n",
              "      <td>1.0</td>\n",
              "      <td>NaN</td>\n",
              "      <td>0.0</td>\n",
              "      <td>NaN</td>\n",
              "      <td>22.0</td>\n",
              "      <td>8cf07265</td>\n",
              "      <td>73a46ff0</td>\n",
              "      <td>dd1e882e</td>\n",
              "      <td>f34203e3</td>\n",
              "      <td>25c83c98</td>\n",
              "      <td>7e0ccccf</td>\n",
              "      <td>3b870555</td>\n",
              "      <td>5b392875</td>\n",
              "      <td>a73ee510</td>\n",
              "      <td>3b08e48b</td>\n",
              "      <td>39ec7a77</td>\n",
              "      <td>0a48382f</td>\n",
              "      <td>66bf004c</td>\n",
              "      <td>b28479f6</td>\n",
              "      <td>4f648a87</td>\n",
              "      <td>4e669708</td>\n",
              "      <td>776ce399</td>\n",
              "      <td>da507f45</td>\n",
              "      <td>21ddcdc9</td>\n",
              "      <td>5840adea</td>\n",
              "      <td>81f8acaf</td>\n",
              "      <td>NaN</td>\n",
              "      <td>be7c41b4</td>\n",
              "      <td>15b4ecfa</td>\n",
              "      <td>ea9a246c</td>\n",
              "      <td>9636866f</td>\n",
              "    </tr>\n",
              "    <tr>\n",
              "      <th>3</th>\n",
              "      <td>0</td>\n",
              "      <td>NaN</td>\n",
              "      <td>-1</td>\n",
              "      <td>NaN</td>\n",
              "      <td>NaN</td>\n",
              "      <td>5713.0</td>\n",
              "      <td>NaN</td>\n",
              "      <td>0.0</td>\n",
              "      <td>1.0</td>\n",
              "      <td>14.0</td>\n",
              "      <td>NaN</td>\n",
              "      <td>0.0</td>\n",
              "      <td>NaN</td>\n",
              "      <td>NaN</td>\n",
              "      <td>05db9164</td>\n",
              "      <td>4c2bc594</td>\n",
              "      <td>d032c263</td>\n",
              "      <td>c18be181</td>\n",
              "      <td>25c83c98</td>\n",
              "      <td>fe6b92e5</td>\n",
              "      <td>646b4bca</td>\n",
              "      <td>0b153874</td>\n",
              "      <td>a73ee510</td>\n",
              "      <td>3b08e48b</td>\n",
              "      <td>45ea640a</td>\n",
              "      <td>dfbb09fb</td>\n",
              "      <td>df941d33</td>\n",
              "      <td>8ceecbc8</td>\n",
              "      <td>c7b09696</td>\n",
              "      <td>84898b2a</td>\n",
              "      <td>d4bb7bd8</td>\n",
              "      <td>fe94fad1</td>\n",
              "      <td>NaN</td>\n",
              "      <td>NaN</td>\n",
              "      <td>0014c32a</td>\n",
              "      <td>ad3062eb</td>\n",
              "      <td>3a171ecb</td>\n",
              "      <td>3b183c5c</td>\n",
              "      <td>NaN</td>\n",
              "      <td>NaN</td>\n",
              "    </tr>\n",
              "    <tr>\n",
              "      <th>4</th>\n",
              "      <td>0</td>\n",
              "      <td>0.0</td>\n",
              "      <td>1</td>\n",
              "      <td>NaN</td>\n",
              "      <td>10.0</td>\n",
              "      <td>28841.0</td>\n",
              "      <td>NaN</td>\n",
              "      <td>0.0</td>\n",
              "      <td>10.0</td>\n",
              "      <td>5.0</td>\n",
              "      <td>0.0</td>\n",
              "      <td>0.0</td>\n",
              "      <td>NaN</td>\n",
              "      <td>10.0</td>\n",
              "      <td>05db9164</td>\n",
              "      <td>b46aceb6</td>\n",
              "      <td>NaN</td>\n",
              "      <td>NaN</td>\n",
              "      <td>b0530c50</td>\n",
              "      <td>7e0ccccf</td>\n",
              "      <td>b5e1898d</td>\n",
              "      <td>0b153874</td>\n",
              "      <td>a73ee510</td>\n",
              "      <td>3b08e48b</td>\n",
              "      <td>5d1b7285</td>\n",
              "      <td>NaN</td>\n",
              "      <td>cb2e33ed</td>\n",
              "      <td>07d13a8f</td>\n",
              "      <td>217d99f2</td>\n",
              "      <td>NaN</td>\n",
              "      <td>07c540c4</td>\n",
              "      <td>908eaeb8</td>\n",
              "      <td>NaN</td>\n",
              "      <td>NaN</td>\n",
              "      <td>NaN</td>\n",
              "      <td>NaN</td>\n",
              "      <td>be7c41b4</td>\n",
              "      <td>NaN</td>\n",
              "      <td>NaN</td>\n",
              "      <td>NaN</td>\n",
              "    </tr>\n",
              "  </tbody>\n",
              "</table>\n",
              "</div>"
            ],
            "text/plain": [
              "   0     1   2      3     4   ...        35        36        37        38        39\n",
              "0   1   NaN   0    4.0   1.0  ...       NaN  32c7478e  215dcc2f  001f3601  05051329\n",
              "1   0  10.0  12   19.0  30.0  ...       NaN  bcdee96c  2ef19589  f7839e21  eadff93b\n",
              "2   1   NaN   6  116.0  10.0  ...       NaN  be7c41b4  15b4ecfa  ea9a246c  9636866f\n",
              "3   0   NaN  -1    NaN   NaN  ...  ad3062eb  3a171ecb  3b183c5c       NaN       NaN\n",
              "4   0   0.0   1    NaN  10.0  ...       NaN  be7c41b4       NaN       NaN       NaN\n",
              "\n",
              "[5 rows x 40 columns]"
            ]
          },
          "metadata": {
            "tags": []
          },
          "execution_count": 96
        }
      ]
    },
    {
      "cell_type": "markdown",
      "metadata": {
        "id": "5d9GalUtGDUM",
        "colab_type": "text"
      },
      "source": [
        "#연속필드만으로 예측#"
      ]
    },
    {
      "cell_type": "code",
      "metadata": {
        "id": "OkyntOlB72rB",
        "colab_type": "code",
        "colab": {}
      },
      "source": [
        "class MLP(torch.nn.Module):\n",
        "  def __init__(self, input_dim, hidden_dims, output_dim):\n",
        "    super(MLP, self).__init__()\n",
        "    self.input_dim = input_dim\n",
        "    self.output_dim = output_dim\n",
        "    layers = []\n",
        "    ndims = [self.input_dim] + hidden_dims + [output_dim]\n",
        "    for i in range(0, len(hidden_dims)+1):\n",
        "      seq = nn.Sequential( \n",
        "          nn.Linear(ndims[i], ndims[i+1]),\n",
        "          nn.BatchNorm1d(ndims[i+1]),\n",
        "          nn.ReLU()\n",
        "      )\n",
        "      layers.append( seq )\n",
        "    self.layers = nn.ModuleList( layers )\n",
        "    self.init_weight()\n",
        "\n",
        "  def forward(self, x):\n",
        "    for i, layer in enumerate(self.layers):\n",
        "      x = layer(x)\n",
        "    return x\n",
        "\n",
        "  def init_weight(self):\n",
        "    for m in self.modules():\n",
        "      if isinstance(m, nn.Linear):\n",
        "        nn.init.kaiming_normal_(m.weight, mode='fan_in')\n",
        "        nn.init.constant_(m.bias, 0.)\n",
        "      elif isinstance(m, nn.BatchNorm1d):\n",
        "        nn.init.constant_(m.weight, 1.)\n",
        "        nn.init.constant_(m.bias, 0.)"
      ],
      "execution_count": 0,
      "outputs": []
    },
    {
      "cell_type": "markdown",
      "metadata": {
        "id": "Ew8WR8pIRMzU",
        "colab_type": "text"
      },
      "source": [
        "## 데이터 정제 ##"
      ]
    },
    {
      "cell_type": "code",
      "metadata": {
        "id": "LL7h7HJHjUp3",
        "colab_type": "code",
        "colab": {}
      },
      "source": [
        "def preprocess(data):\n",
        "  # NaN은 의미있는 숫자가 아니므로 계산을 할 수 없습니다. 여러 방법이 있지만, 평균값을 채워 넣는다.\n",
        "  c_label = data.iloc[:,0].values\n",
        "  c_data = data.iloc[:,1:14].values\n",
        "  for i in range(c_data.shape[1]):\n",
        "    invalid_idx = np.isnan(c_data[:,i])\n",
        "    mean = c_data[~invalid_idx,i].mean()   # NaN아닌 데이터의 평균 계산\n",
        "    c_data[invalid_idx,i] = mean  # NaN을 평균값으로 대체\n",
        "\n",
        "  c_data = torch.tensor(c_data, dtype=torch.float32)\n",
        "  c_label = torch.tensor(c_label, dtype=torch.int64)  \n",
        "  return c_data, c_label"
      ],
      "execution_count": 0,
      "outputs": []
    },
    {
      "cell_type": "markdown",
      "metadata": {
        "id": "YV-MZMDbjJML",
        "colab_type": "text"
      },
      "source": [
        "### Train Data Set 정제 ###"
      ]
    },
    {
      "cell_type": "code",
      "metadata": {
        "id": "eZQErlqlRRPN",
        "colab_type": "code",
        "colab": {}
      },
      "source": [
        "c_train_data, c_train_label = preprocess(train_data)\n",
        "ds = data.TensorDataset(c_train_data, c_train_label )\n",
        "train_loader = data.DataLoader(ds, batch_size=128, shuffle=True)"
      ],
      "execution_count": 0,
      "outputs": []
    },
    {
      "cell_type": "code",
      "metadata": {
        "id": "p9ESf6eADXDu",
        "colab_type": "code",
        "colab": {
          "base_uri": "https://localhost:8080/",
          "height": 34
        },
        "outputId": "7cecf5dd-8602-4a24-b7e7-ce3fd20981d1"
      },
      "source": [
        "c_train_label.sum()"
      ],
      "execution_count": 102,
      "outputs": [
        {
          "output_type": "execute_result",
          "data": {
            "text/plain": [
              "tensor(418)"
            ]
          },
          "metadata": {
            "tags": []
          },
          "execution_count": 102
        }
      ]
    },
    {
      "cell_type": "markdown",
      "metadata": {
        "id": "8j2LiBLxjM4p",
        "colab_type": "text"
      },
      "source": [
        "### Test Data Set 정제 ###"
      ]
    },
    {
      "cell_type": "code",
      "metadata": {
        "id": "CG4dywcCjBMQ",
        "colab_type": "code",
        "colab": {}
      },
      "source": [
        "c_test_data, c_test_label = preprocess(test_data)\n",
        "ds = data.TensorDataset(c_test_data, c_test_label )\n",
        "test_loader = data.DataLoader(ds, batch_size=1000, shuffle=True)"
      ],
      "execution_count": 0,
      "outputs": []
    },
    {
      "cell_type": "code",
      "metadata": {
        "id": "_pLKkBQyDa-j",
        "colab_type": "code",
        "colab": {
          "base_uri": "https://localhost:8080/",
          "height": 34
        },
        "outputId": "3fa253ba-1eab-4736-b41a-c09ea641056f"
      },
      "source": [
        "c_test_label.sum()"
      ],
      "execution_count": 104,
      "outputs": [
        {
          "output_type": "execute_result",
          "data": {
            "text/plain": [
              "tensor(2608)"
            ]
          },
          "metadata": {
            "tags": []
          },
          "execution_count": 104
        }
      ]
    },
    {
      "cell_type": "markdown",
      "metadata": {
        "id": "-d_tlvt8WJWf",
        "colab_type": "text"
      },
      "source": [
        "## Loss 함수 설계 ##\n",
        "Cross Entropy Loss 함수 설계\n",
        "$$Loss(y,\\hat{y}) = \\sum_{c \\in Classes} { -y_c * log(\\hat{y_c}) }$$\n",
        "\n",
        "True $y$ 설계, One-Hot Encoding 기법(하나만 1인 형태)\n",
        "* label이 1일 경우, y = [0, 1]  \n",
        "* label이 0일 경우, y = [1, 0]\n",
        "\n",
        "예측 $\\hat{y}$의 설계\n",
        "* posivie 예측일 경우, $\\hat{y}$ = [0.01, 0.99]\n",
        "* 그렇지 않을 경우, $\\hat{y}$ = [0.99, 0.01]\n",
        "\n",
        "그런데, 내장된 함수가 있습니다. Torch Manual에서 [loss](https://pytorch.org/docs/stable/nn.html#loss-functions) 편을 참조 하시기 바랍니다. 많이 존재합니다. torch.nn.BCEWithLogitsLoss()입니다."
      ]
    },
    {
      "cell_type": "code",
      "metadata": {
        "id": "bicEWMaCYSul",
        "colab_type": "code",
        "colab": {
          "base_uri": "https://localhost:8080/",
          "height": 102
        },
        "outputId": "75d5914a-d3d1-4a19-c31a-5dbb90571ce9"
      },
      "source": [
        "def one_hot_encoder(y, nclass):\n",
        "  label = torch.zeros(y.size(0), nclass, dtype=torch.float32)\n",
        "  label.scatter_(1,y.unsqueeze(1),1.0)\n",
        "  return label\n",
        "\n",
        "nclass = 2\n",
        "y = torch.tensor([1,0,1,1,0])\n",
        "one_hot_encoder(y,2)"
      ],
      "execution_count": 12,
      "outputs": [
        {
          "output_type": "execute_result",
          "data": {
            "text/plain": [
              "tensor([[0., 1.],\n",
              "        [1., 0.],\n",
              "        [0., 1.],\n",
              "        [0., 1.],\n",
              "        [1., 0.]])"
            ]
          },
          "metadata": {
            "tags": []
          },
          "execution_count": 12
        }
      ]
    },
    {
      "cell_type": "code",
      "metadata": {
        "id": "N5Gp6Z8aZ4Hh",
        "colab_type": "code",
        "colab": {
          "base_uri": "https://localhost:8080/",
          "height": 34
        },
        "outputId": "cf4cdac1-597b-4f3b-9ae4-950ad27a64b5"
      },
      "source": [
        "loss = torch.nn.BCEWithLogitsLoss()\n",
        "\n",
        "true_y = torch.tensor( [0,1,0] )\n",
        "pred_y = torch.tensor( [[0.1, 0.9], [0.2, 0.8], [0.9, 0.1]], dtype=torch.float32 )\n",
        "label_y = one_hot_encoder(true_y, 2)\n",
        "\n",
        "loss(label_y, pred_y)"
      ],
      "execution_count": 44,
      "outputs": [
        {
          "output_type": "execute_result",
          "data": {
            "text/plain": [
              "tensor(0.7032)"
            ]
          },
          "metadata": {
            "tags": []
          },
          "execution_count": 44
        }
      ]
    },
    {
      "cell_type": "markdown",
      "metadata": {
        "id": "7wPHAX7lkGTR",
        "colab_type": "text"
      },
      "source": [
        "### 정확도 계산 ###\n"
      ]
    },
    {
      "cell_type": "code",
      "metadata": {
        "id": "7JxEt4XhkCKu",
        "colab_type": "code",
        "colab": {}
      },
      "source": [
        "def check_accuracy(model, dataloader, mtr):\n",
        "  x, true_y = next(dataloader)\n",
        "  with torch.no_grad():\n",
        "    logit_y = model(x)\n",
        "    cls_prob = F.softmax(logit_y,dim=1)\n",
        "    pred_y = cls_prob.argmax(dim=1)\n",
        "    acc = (pred_y == true_y).type(dtype=torch.float32).mean()\n",
        "    mtr.add(cls_prob[:,1], true_y)\n",
        "  return acc\n"
      ],
      "execution_count": 0,
      "outputs": []
    },
    {
      "cell_type": "markdown",
      "metadata": {
        "id": "3kerYVO6Z39C",
        "colab_type": "text"
      },
      "source": [
        "# 이제 학습을 시작해 보자 #"
      ]
    },
    {
      "cell_type": "code",
      "metadata": {
        "id": "iDZMdOYjdVAd",
        "colab_type": "code",
        "colab": {
          "base_uri": "https://localhost:8080/",
          "height": 663
        },
        "outputId": "9067baa5-0dc2-4c85-ef3e-2511d3796da8"
      },
      "source": [
        "\n",
        "\n",
        "model = MLP(13,[200,200,200], 2)\n",
        "optimizer = torch.optim.AdamW(model.parameters(), lr=1e-3, weight_decay=1e-4)\n",
        "#optimizer = torch.optim.SGD(model.parameters(), lr=1e-3)\n",
        "loss = torch.nn.BCEWithLogitsLoss()\n",
        "mtr = meter.AUCMeter()\n",
        "\n",
        "\n",
        "test_iter = iter(test_loader)\n",
        "global_step = 0\n",
        "for epoch in range(2000):\n",
        "  for i, (x, y) in enumerate(loader):\n",
        "    global_step += 1\n",
        "    pred_y = model(x)\n",
        "    label_y = one_hot_encoder(y, nclass=2)\n",
        "    err = loss(pred_y, label_y)\n",
        "    optimizer.zero_grad()\n",
        "    err.backward()\n",
        "    optimizer.step()\n",
        "    if global_step < 10 or global_step% 1000 == 0:\n",
        "      model.eval()\n",
        "      try:\n",
        "        acc = check_accuracy(model, test_iter, mtr)\n",
        "        print(\"epoch\", epoch, \"err\", err.item(), \"acc\", acc.item()*100.0, \"AUC\", mtr.value()[0])\n",
        "      except StopIteration:\n",
        "        # 끝까지 다 했을 경우, 다시 처음부터 반복\n",
        "        test_iter = iter(test_loader)\n",
        "      model.train()"
      ],
      "execution_count": 106,
      "outputs": [
        {
          "output_type": "stream",
          "text": [
            "epoch 0 err 0.7076781988143921 acc 58.99999737739563 AUC 0.5955260562768572\n",
            "epoch 0 err 0.6855890154838562 acc 57.099997997283936 AUC 0.5955309909198578\n",
            "epoch 0 err 0.6870840787887573 acc 54.500001668930054 AUC 0.5882522935753304\n",
            "epoch 0 err 0.675654947757721 acc 56.09999895095825 AUC 0.5957120965323164\n",
            "epoch 0 err 0.6906782388687134 acc 61.799997091293335 AUC 0.6034235539786255\n",
            "epoch 0 err 0.6743243932723999 acc 64.3999993801117 AUC 0.6109761203511204\n",
            "epoch 0 err 0.682582676410675 acc 70.39999961853027 AUC 0.6168308125462438\n",
            "epoch 0 err 0.673927903175354 acc 69.80000138282776 AUC 0.6145621574370582\n",
            "epoch 0 err 0.6822398900985718 acc 71.79999947547913 AUC 0.6208388563699406\n",
            "epoch 62 err 0.5906600952148438 acc 71.60000205039978 AUC 0.606020146137094\n",
            "epoch 187 err 0.548851728439331 acc 74.50000047683716 AUC 0.6011630687735449\n",
            "epoch 249 err 0.5777088403701782 acc 74.29999709129333 AUC 0.5997931109887905\n",
            "epoch 312 err 0.5563284754753113 acc 75.59999823570251 AUC 0.6003230652872509\n",
            "epoch 374 err 0.5889516472816467 acc 70.99999785423279 AUC 0.5944917362777598\n",
            "epoch 437 err 0.5415743589401245 acc 74.80000257492065 AUC 0.5965152821898266\n",
            "epoch 499 err 0.5790265798568726 acc 75.99999904632568 AUC 0.597939573098451\n",
            "epoch 562 err 0.5417243838310242 acc 76.2000024318695 AUC 0.5981432987295775\n",
            "epoch 624 err 0.6307932734489441 acc 71.49999737739563 AUC 0.597337760369161\n",
            "epoch 687 err 0.6119626760482788 acc 73.69999885559082 AUC 0.5962660536274157\n",
            "epoch 749 err 0.540317177772522 acc 74.09999966621399 AUC 0.5973781528654756\n",
            "epoch 874 err 0.473052978515625 acc 71.79999947547913 AUC 0.5956136238099439\n",
            "epoch 937 err 0.49968796968460083 acc 73.69999885559082 AUC 0.5978614953878503\n",
            "epoch 999 err 0.5102707743644714 acc 71.39999866485596 AUC 0.597977972637237\n",
            "epoch 1062 err 0.48656943440437317 acc 73.00000190734863 AUC 0.5971224978985854\n",
            "epoch 1124 err 0.4773017168045044 acc 72.60000109672546 AUC 0.5977601718322577\n",
            "epoch 1187 err 0.51317298412323 acc 69.9999988079071 AUC 0.5967121172764195\n",
            "epoch 1249 err 0.5039801001548767 acc 72.79999852180481 AUC 0.596201415113973\n",
            "epoch 1312 err 0.47712358832359314 acc 72.00000286102295 AUC 0.5944772375444765\n",
            "epoch 1374 err 0.5292606353759766 acc 71.39999866485596 AUC 0.5943077059860309\n",
            "epoch 1437 err 0.47751855850219727 acc 71.70000076293945 AUC 0.5949049175659605\n",
            "epoch 1562 err 0.4486018717288971 acc 69.90000009536743 AUC 0.5953899712384597\n",
            "epoch 1624 err 0.48655033111572266 acc 70.49999833106995 AUC 0.5948204542579615\n",
            "epoch 1687 err 0.47268417477607727 acc 70.20000219345093 AUC 0.5945865301709781\n",
            "epoch 1749 err 0.4938103258609772 acc 73.60000014305115 AUC 0.5945886118702263\n",
            "epoch 1812 err 0.4369467794895172 acc 75.0 AUC 0.59433168941609\n",
            "epoch 1874 err 0.4697830080986023 acc 71.8999981880188 AUC 0.5944909535045351\n",
            "epoch 1937 err 0.4970510005950928 acc 67.69999861717224 AUC 0.593324500946033\n",
            "epoch 1999 err 0.4830837845802307 acc 71.29999995231628 AUC 0.5919318519559875\n"
          ],
          "name": "stdout"
        }
      ]
    },
    {
      "cell_type": "code",
      "metadata": {
        "id": "WWisCMFBdeSL",
        "colab_type": "code",
        "colab": {}
      },
      "source": [
        ""
      ],
      "execution_count": 0,
      "outputs": []
    }
  ]
}