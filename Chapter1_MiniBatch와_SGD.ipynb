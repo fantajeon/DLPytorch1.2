{
  "nbformat": 4,
  "nbformat_minor": 0,
  "metadata": {
    "colab": {
      "name": "Chapter1 - MiniBatch와 SGD.ipynb",
      "provenance": [],
      "collapsed_sections": [],
      "include_colab_link": true
    },
    "kernelspec": {
      "name": "python3",
      "display_name": "Python 3"
    }
  },
  "cells": [
    {
      "cell_type": "markdown",
      "metadata": {
        "id": "view-in-github",
        "colab_type": "text"
      },
      "source": [
        "<a href=\"https://colab.research.google.com/github/fantajeon/DLPytorch1.2/blob/master/Chapter1_MiniBatch%EC%99%80_SGD.ipynb\" target=\"_parent\"><img src=\"https://colab.research.google.com/assets/colab-badge.svg\" alt=\"Open In Colab\"/></a>"
      ]
    },
    {
      "cell_type": "markdown",
      "metadata": {
        "id": "Lxb3cF3UqASk",
        "colab_type": "text"
      },
      "source": [
        "\n",
        "#MiniBatch와 SGD#\n",
        "Author: fantajeon@gmail.com"
      ]
    },
    {
      "cell_type": "markdown",
      "metadata": {
        "id": "NLZpVB7jqMHd",
        "colab_type": "text"
      },
      "source": [
        "이번 시간에는 MiniBatch에 대해서 알아보겠습니다. 이것은 우선 Gradient Descent에서부터 시작을 해보겠습니다.\n",
        "\n",
        "## Gradient Descent ##\n",
        "Gradient Descent에서는 전체 훈련셋으로부터 gradient을 계산했습니다. 그런데 여기서 큰 문제가 하나 있습니다. 이 상황을 생각해 봅시다. 메모리에 적재(할당)할 수 없을 정도로 매우 크면 어떻게 해야 하나요? 적제를 할 수 없기 때문에 gradient도 역시 계산을 못할 것입니다. 비록 메모리에 적재까지는 해도, gradient를 계산할때 메모리 한계로 계산 불가이면 어떻게 할까요? 그래서 바로 쉽게 생각할 수 있는 대안은 일부분만으로 해보자! 이 일부분은 크기는 어디까지 일까? 이 문제는 ML 설계자에게 고질적으로 따라다는 문제로 남아있습니다.\n",
        "\n",
        "## Mini Batch와 Stochastic Gradient Descent Optimization ##\n",
        "일 부분을 취하면 Gradient Descent를 하기때문에 별도의 이름이 있습니다. 바로 Stochastic Gradient Descent(SGD)입니다. 자 그럼 루프 구조를 먼저 언급하고 코드로 바로 가겠습니다.\n",
        "1. (epoch loop) 전체 훈련셋을 20번 학습한다.\n",
        "  1. (mini batch loop) 전체 훈련셋으로부터 n개씩 일부분을 차근차근 서브 샘플(MiniBatch라 한다)을 추출한다.\n",
        "    1. Predict: MiniBatch 단위로 $\\hat {y} = f(x)$을 예측한다.\n",
        "    2. Loss: Loss(y, $\\hat {y}$)를 계산한다.\n",
        "    3. Gradient 계산: Backward()를 사용하여 gradient를 계산한다.\n",
        "    4. 인자 갱신, step: Optimizer.step()으로 $f(x)$, 즉 모델의 인자를 갱신한다.\n",
        "\n",
        "### 용어설명 ###\n",
        "**poch**는 전체 훈련셋을 몇 번 학습할 것인지를 지정합니다. 이게 생긴것은 MiniBatch때문에 생긴것입니다. 일부를 학습하지만, 빼먹는 샘플은 없어야 합니다. 그리고 일부분으로 gradient를 계산한 것이기 때문에, 오차가 있기 때문에 최적화하는 데 시간이 더 필요합니다.\n",
        "\n",
        "**MiniBatch**는 훈련셋중 이번에 학습할 샘플입니다. 보통은 학습시킬 훈련셋의 따라서 적당한 양은 직접 찾아야 합니다. 그러나 물리적인 메모리와 학습 속도를 관찰하다보면, 현실적으로 가능한 수치들이 있을 겁니다. 보통은 32, 64, 128, 256, 1024 중에 하나로 합니다. "
      ]
    },
    {
      "cell_type": "markdown",
      "metadata": {
        "id": "M_O6sAWiu9al",
        "colab_type": "text"
      },
      "source": [
        "# 강좌를 위해서 큰 훈련셋을 마련 해보자 #"
      ]
    },
    {
      "cell_type": "code",
      "metadata": {
        "id": "rBim_Q-91NQw",
        "colab_type": "code",
        "colab": {}
      },
      "source": [
        "#필요한 모듈 초기화\n",
        "import matplotlib.pyplot as plt\n",
        "%matplotlib inline\n",
        "\n",
        "import torch\n",
        "from torch import nn"
      ],
      "execution_count": 0,
      "outputs": []
    },
    {
      "cell_type": "markdown",
      "metadata": {
        "id": "M_Ui2Po-6Xod",
        "colab_type": "text"
      },
      "source": [
        "## 실험을 위해서 시뮬레이션 데이터 생성 ##"
      ]
    },
    {
      "cell_type": "code",
      "metadata": {
        "id": "nIXr1Joup5k5",
        "colab_type": "code",
        "colab": {
          "base_uri": "https://localhost:8080/",
          "height": 68
        },
        "outputId": "d42074f5-7546-44b6-aac7-1d630e2e0527"
      },
      "source": [
        "w = 110.0\n",
        "b = 5.5\n",
        "\n",
        "torch.manual_seed(0)  # 랜덤이긴하지만, 실험 재현 목적으로 0을 임의적으로 설정\n",
        "x = torch.linspace(0,1,steps=102400)\n",
        "y = w*x + b + torch.randn( x.size() ) * 30.0  # 잡음 추가\n",
        "\n",
        "print(\"x의 개수\", x.size())\n",
        "print(y[0:10])"
      ],
      "execution_count": 8,
      "outputs": [
        {
          "output_type": "stream",
          "text": [
            "x의 개수 torch.Size([102400])\n",
            "tensor([-28.2752, -29.0697,  -2.0152,  -7.5131,  30.9656,  26.2656,  -3.9739,\n",
            "        -57.9491,  15.1768, -32.3904])\n"
          ],
          "name": "stdout"
        }
      ]
    },
    {
      "cell_type": "code",
      "metadata": {
        "id": "vPlF2hxb0nZ_",
        "colab_type": "code",
        "colab": {
          "base_uri": "https://localhost:8080/",
          "height": 286
        },
        "outputId": "5e030e62-0400-4ef3-ed88-3c606733bb04"
      },
      "source": [
        "# 이제 어떤 모양인지 300개 간격으로 그래프를 그려 보겠습니다.\n",
        "\n",
        "# numpy는 공학자들이 많이 쓰는 공학용 계산 framework입니다. PyTorch는 Numpy와 호환이 잘 되도록 설계되었습니다.\n",
        "x_numpy = x[::300].numpy()   \n",
        "y_numpy = y[::300].numpy()\n",
        "# 아래에 detach는 연산을 기록하는 computation graph에서 때낸다. 향후 어떠한 연산을 해도 그래프에 기록되지 않을 것입니다.\n",
        "plt.plot(x_numpy,y_numpy,'ro')"
      ],
      "execution_count": 9,
      "outputs": [
        {
          "output_type": "execute_result",
          "data": {
            "text/plain": [
              "[<matplotlib.lines.Line2D at 0x7f75691fccf8>]"
            ]
          },
          "metadata": {
            "tags": []
          },
          "execution_count": 9
        },
        {
          "output_type": "display_data",
          "data": {
            "image/png": "[encoded data removed]",
            "text/plain": [
              "<Figure size 432x288 with 1 Axes>"
            ]
          },
          "metadata": {
            "tags": []
          }
        }
      ]
    },
    {
      "cell_type": "markdown",
      "metadata": {
        "id": "gZfSiJP81Wp3",
        "colab_type": "text"
      },
      "source": [
        "# Stochastic Gradient Descent #\n",
        "자 이제 코드를 구현해 보겠습니다."
      ]
    },
    {
      "cell_type": "code",
      "metadata": {
        "id": "rdmOWPu7wWBN",
        "colab_type": "code",
        "colab": {
          "base_uri": "https://localhost:8080/",
          "height": 1000
        },
        "outputId": "fad38ac3-975f-4041-99b4-f0bfdbf80cec"
      },
      "source": [
        "#nn.Module화 하기\n",
        "class Model(nn.Module): # 1. 상속\n",
        "  def __init__(self):   # 2. 모듈 초기화 구현\n",
        "    super(Model, self).__init__()\n",
        "    self.w = nn.Parameter( torch.rand(1, dtype=torch.float) )   # 모델의 w 인자 정의(이런게 있군요 눈으로만 여겨 보자!)\n",
        "    self.b = nn.Parameter( torch.rand(1, dtype=torch.float) )   # 모델의 b 인자 정의\n",
        "\n",
        "  def forward(self, x): # 3. forward()구현\n",
        "    return self.w * x + self.b\n",
        "\n",
        "model = Model()\n",
        "loss = nn.MSELoss(reduction='sum')\n",
        "\n",
        "\n",
        "epoch = 20\n",
        "mini_batch = 1024\n",
        "learning_rate = 1e-4\n",
        "optimizer = torch.optim.SGD(params=model.parameters(), lr=learning_rate)\n",
        "\n",
        "L_list = []\n",
        "\n",
        "nsample = x.size(0)\n",
        "max_step = nsample // mini_batch\n",
        "print(\"훈련셋 개수\", nsample, \", minibatch 반복문 회수\", max_step)\n",
        "L_sum = 0\n",
        "for e_iter in range(epoch):  # epoch loop\n",
        "  for step in range(max_step):   # minibatch loop\n",
        "    mini_batch_x = x[ step*mini_batch:(step+1)*mini_batch]\n",
        "    mini_batch_y = y[ step*mini_batch:(step+1)*mini_batch]\n",
        "    pred_y = model(mini_batch_x)\n",
        "    L = loss(pred_y, mini_batch_y)\n",
        "    L_sum += L\n",
        "    optimizer.zero_grad() \n",
        "    L.backward()\n",
        "    optimizer.step()\n",
        "\n",
        "    if step % 50 == 0:\n",
        "      print(\"Epoch:{}/Step:{}, L:{:.5}, w={}, b={:.3}, grad(w)={:.3}, grad(b)={:.3}\".format(e_iter, step, L.item(), model.w.item(), model.b.item(), model.w.grad.item(), model.b.grad.item()))\n",
        "    step += 1\n",
        "  print(\"==> End Epoch #{}, loss=L:{:.5}\".format(e_iter, L_sum/max_step))\n"
      ],
      "execution_count": 10,
      "outputs": [
        {
          "output_type": "stream",
          "text": [
            "훈련셋 개수 102400 , minibatch 반복문 회수 100\n",
            "Epoch:0/Step:0, L:1.0108e+06, w=0.36468106508255005, b=2.14, grad(w)=-58.8, grad(b)=-1.26e+04\n",
            "Epoch:0/Step:50, L:9.1485e+05, w=12.78161334991455, b=51.6, grad(w)=-3.56e+03, grad(b)=-7.04e+03\n",
            "==> End Epoch #0, loss=L:9.4039e+05\n",
            "Epoch:1/Step:0, L:6.4718e+06, w=33.33009338378906, b=65.1, grad(w)=7.54e+02, grad(b)=1.5e+05\n",
            "Epoch:1/Step:50, L:9.0836e+05, w=39.08966827392578, b=39.1, grad(w)=-2.45e+03, grad(b)=-4.84e+03\n",
            "==> End Epoch #1, loss=L:2.0138e+06\n",
            "Epoch:2/Step:0, L:3.8635e+06, w=54.019134521484375, b=49.0, grad(w)=5.48e+02, grad(b)=1.09e+05\n",
            "Epoch:2/Step:50, L:9.0513e+05, w=58.2474365234375, b=30.0, grad(w)=-1.64e+03, grad(b)=-3.24e+03\n",
            "==> End Epoch #2, loss=L:3.0172e+06\n",
            "Epoch:3/Step:0, L:2.4873e+06, w=69.0851821899414, b=37.3, grad(w)=3.99e+02, grad(b)=7.88e+04\n",
            "Epoch:3/Step:50, L:9.0356e+05, w=72.1983871459961, b=23.4, grad(w)=-1.05e+03, grad(b)=-2.07e+03\n",
            "==> End Epoch #3, loss=L:3.9833e+06\n",
            "Epoch:4/Step:0, L:1.7627e+06, w=80.05648040771484, b=28.7, grad(w)=2.89e+02, grad(b)=5.69e+04\n",
            "Epoch:4/Step:50, L:9.0285e+05, w=82.35763549804688, b=18.6, grad(w)=-6.21e+02, grad(b)=-1.22e+03\n",
            "==> End Epoch #4, loss=L:4.9296e+06\n",
            "Epoch:5/Step:0, L:1.3821e+06, w=88.0459213256836, b=22.5, grad(w)=2.1e+02, grad(b)=4.09e+04\n",
            "Epoch:5/Step:50, L:9.0255e+05, w=89.75576782226562, b=15.0, grad(w)=-3.08e+02, grad(b)=-6.04e+02\n",
            "==> End Epoch #5, loss=L:5.8654e+06\n",
            "Epoch:6/Step:0, L:1.183e+06, w=93.86396026611328, b=17.9, grad(w)=1.52e+02, grad(b)=2.93e+04\n",
            "Epoch:6/Step:50, L:9.0245e+05, w=95.1432113647461, b=12.5, grad(w)=-80.7, grad(b)=-1.54e+02\n",
            "==> End Epoch #6, loss=L:6.7956e+06\n",
            "Epoch:7/Step:0, L:1.0794e+06, w=98.1007308959961, b=14.6, grad(w)=1.1e+02, grad(b)=2.09e+04\n",
            "Epoch:7/Step:50, L:9.0244e+05, w=99.06640625, b=10.6, grad(w)=84.9, grad(b)=1.74e+02\n",
            "==> End Epoch #7, loss=L:7.7228e+06\n",
            "Epoch:8/Step:0, L:1.0259e+06, w=101.18603515625, b=12.2, grad(w)=79.3, grad(b)=1.47e+04\n",
            "Epoch:8/Step:50, L:9.0246e+05, w=101.92334747314453, b=9.27, grad(w)=2.05e+02, grad(b)=4.13e+02\n",
            "==> End Epoch #8, loss=L:8.6484e+06\n",
            "Epoch:9/Step:0, L:9.9853e+05, w=103.43276977539062, b=10.5, grad(w)=56.9, grad(b)=1.03e+04\n",
            "Epoch:9/Step:50, L:9.025e+05, w=104.00379180908203, b=8.28, grad(w)=2.93e+02, grad(b)=5.87e+02\n",
            "==> End Epoch #9, loss=L:9.5731e+06\n",
            "Epoch:10/Step:0, L:9.848e+05, w=105.0688705444336, b=9.2, grad(w)=40.7, grad(b)=6.99e+03\n",
            "Epoch:10/Step:50, L:9.0253e+05, w=105.51880645751953, b=7.57, grad(w)=3.57e+02, grad(b)=7.13e+02\n",
            "==> End Epoch #10, loss=L:1.0497e+07\n",
            "Epoch:11/Step:0, L:9.7807e+05, w=106.26031494140625, b=8.28, grad(w)=28.8, grad(b)=4.62e+03\n",
            "Epoch:11/Step:50, L:9.0256e+05, w=106.62208557128906, b=7.04, grad(w)=4.04e+02, grad(b)=8.06e+02\n",
            "==> End Epoch #11, loss=L:1.1421e+07\n",
            "Epoch:12/Step:0, L:9.7491e+05, w=107.12794494628906, b=7.6, grad(w)=20.2, grad(b)=2.89e+03\n",
            "Epoch:12/Step:50, L:9.0259e+05, w=107.42546844482422, b=6.66, grad(w)=4.38e+02, grad(b)=8.73e+02\n",
            "==> End Epoch #12, loss=L:1.2345e+07\n",
            "Epoch:13/Step:0, L:9.7352e+05, w=107.7597427368164, b=7.11, grad(w)=13.9, grad(b)=1.63e+03\n",
            "Epoch:13/Step:50, L:9.0261e+05, w=108.010498046875, b=6.38, grad(w)=4.62e+02, grad(b)=9.22e+02\n",
            "==> End Epoch #13, loss=L:1.3269e+07\n",
            "Epoch:14/Step:0, L:9.73e+05, w=108.21981048583984, b=6.75, grad(w)=9.31, grad(b)=7.08e+02\n",
            "Epoch:14/Step:50, L:9.0262e+05, w=108.4365234375, b=6.18, grad(w)=4.8e+02, grad(b)=9.57e+02\n",
            "==> End Epoch #14, loss=L:1.4193e+07\n",
            "Epoch:15/Step:0, L:9.7288e+05, w=108.55484771728516, b=6.49, grad(w)=5.98, grad(b)=39.4\n",
            "Epoch:15/Step:50, L:9.0263e+05, w=108.74678039550781, b=6.03, grad(w)=4.94e+02, grad(b)=9.83e+02\n",
            "==> End Epoch #15, loss=L:1.5117e+07\n",
            "Epoch:16/Step:0, L:9.7293e+05, w=108.7988510131836, b=6.3, grad(w)=3.55, grad(b)=-4.47e+02\n",
            "Epoch:16/Step:50, L:9.0264e+05, w=108.97271728515625, b=5.93, grad(w)=5.03e+02, grad(b)=1e+03\n",
            "==> End Epoch #16, loss=L:1.604e+07\n",
            "Epoch:17/Step:0, L:9.7304e+05, w=108.97654724121094, b=6.16, grad(w)=1.79, grad(b)=-8.02e+02\n",
            "Epoch:17/Step:50, L:9.0265e+05, w=109.13724517822266, b=5.85, grad(w)=5.1e+02, grad(b)=1.02e+03\n",
            "==> End Epoch #17, loss=L:1.6964e+07\n",
            "Epoch:18/Step:0, L:9.7316e+05, w=109.10591888427734, b=6.06, grad(w)=0.5, grad(b)=-1.06e+03\n",
            "Epoch:18/Step:50, L:9.0265e+05, w=109.2570571899414, b=5.79, grad(w)=5.15e+02, grad(b)=1.03e+03\n",
            "==> End Epoch #18, loss=L:1.7888e+07\n",
            "Epoch:19/Step:0, L:9.7327e+05, w=109.20014953613281, b=5.98, grad(w)=-0.437, grad(b)=-1.25e+03\n",
            "Epoch:19/Step:50, L:9.0266e+05, w=109.34431457519531, b=5.75, grad(w)=5.19e+02, grad(b)=1.03e+03\n",
            "==> End Epoch #19, loss=L:1.8811e+07\n"
          ],
          "name": "stdout"
        }
      ]
    },
    {
      "cell_type": "markdown",
      "metadata": {
        "id": "JlQoGvLe5uyo",
        "colab_type": "text"
      },
      "source": [
        "## 결과 분석 ##\n",
        "실제 우리가 예상한 $w$와 $b$값을 110과 5.5였습니다. 잡음을 섞어서 정확히 추정을 어려울 것입니다. 그러나 근사한 값은 얻었습니다. $w$와 $b$의 SGD로 추정한 값은 각각 109와 6 이기 때문입니다."
      ]
    },
    {
      "cell_type": "code",
      "metadata": {
        "id": "8bIfCcjzx6lX",
        "colab_type": "code",
        "colab": {
          "base_uri": "https://localhost:8080/",
          "height": 286
        },
        "outputId": "03781e01-708d-4a40-fd6a-ab8a4837ce42"
      },
      "source": [
        "# 이제 어떤 모양인지 512개 간격으로 그래프를 그려 보겠습니다.\n",
        "\n",
        "# numpy는 공학자들이 많이 쓰는 공학용 계산 framework입니다. PyTorch는 Numpy와 호환이 잘 되도록 설계되었습니다.\n",
        "x_numpy = x.numpy()[::512]   \n",
        "y_numpy = y.numpy()[::512]\n",
        "pred_y = model(x).detach().numpy()[::512]\n",
        "\n",
        "# 아래에 detach는 연산을 기록하는 computation graph에서 때낸다. 향후 어떠한 연산을 해도 그래프에 기록되지 않을 것입니다.\n",
        "plt.plot(x_numpy,y_numpy,'ro')\n",
        "plt.plot(x_numpy,pred_y,label='Fitted line')"
      ],
      "execution_count": 13,
      "outputs": [
        {
          "output_type": "execute_result",
          "data": {
            "text/plain": [
              "[<matplotlib.lines.Line2D at 0x7f75659390f0>]"
            ]
          },
          "metadata": {
            "tags": []
          },
          "execution_count": 13
        },
        {
          "output_type": "display_data",
          "data": {
            "image/png": "[encoded data removed]",
            "text/plain": [
              "<Figure size 432x288 with 1 Axes>"
            ]
          },
          "metadata": {
            "tags": []
          }
        }
      ]
    },
    {
      "cell_type": "markdown",
      "metadata": {
        "id": "lZfyGoCQSsb_",
        "colab_type": "text"
      },
      "source": [
        "# Dataset + DataLoader + Compose를 하면 병렬화가되는 하나의 파이프라인이 완성 #\n",
        "1. Dataset 구현\n",
        "2. DataLoader 활용\n",
        "3. Transform구현과 Compose 활용\n",
        "\n",
        "이 모든 과정은 하나의 파이프라인으로 만들어서 일괄적으로 처리하여 훈련셋 학습 과정을 효과적으로 하자 입니다. 이것을 한 이유는 실제 현장에서 처리하다보면 데이터 사이즈가 방대합니다. 이럴 경우 병렬처리 분산처리등을 동원하여 학습을 해야 합니다. 그럴려면 약간의 규약을 지켜주면 복잡한 구현없이 개발자는 이 유용한 기능들을 사용할 수 있습니다."
      ]
    },
    {
      "cell_type": "markdown",
      "metadata": {
        "id": "H0vWcXyl1RUv",
        "colab_type": "text"
      },
      "source": [
        "# PyTorch의 DataSet Loader 구현 #\n",
        "자 그럼 조금 더 PyTorch framework에 알맞게 구조화를 시켜 보겠습니다. PyTorch에서는 pytorch.utils.data.Dataset라는 클래스를 제공합니다. 이것은 추상클래스입니다. 역할 명세서 정의는 되어있지만, 실제적으로 작동부분에 해당하는 구현이 없는 껍데기 클래스입니다. 저의가 할 일을은 Dataset의 부족한 부분을 구현해주면 됩니다. 보통 구현할 내용은 다음과 같습니다:\n",
        "1. \\__init__(): Dataset이 만들어질때 필요한 부분입니다. 파일로부터 메모리에 적재하는 과정을 구현합니다.\n",
        "2. \\__len__(): 데이터셋의 크기를 반환합니다. 전체 루프를 돌때 필요한 부분입니다.\n",
        "3. \\__getitem__(): 데이터셋의 접근할 수 있는 방법입니다. 인자로 idx를 받으며, 배열 접근처럼 가능해집니다. \n",
        "4. DataLoader 클래스와 같이 활용한다.\n",
        "\n",
        "Dataset을 구현할때 일부분만 메모리에 적재하도록 짜는 역할은 개발자의 몫입니다. 안타깝지만 자동은 없습니다.\n"
      ]
    },
    {
      "cell_type": "markdown",
      "metadata": {
        "id": "l9B3dnDD42h-",
        "colab_type": "text"
      },
      "source": [
        "보통은 파일로 저장하고 읽기를 하니다. 그래서 2가지로 코드 구현을 해보겠습니다.\n",
        "# x,y데이터를 csv형식의 파일로 저장 #"
      ]
    },
    {
      "cell_type": "code",
      "metadata": {
        "id": "QA0NZPld33z9",
        "colab_type": "code",
        "colab": {
          "base_uri": "https://localhost:8080/",
          "height": 391
        },
        "outputId": "948992e3-9fa4-4d79-9d1c-39227c093f79"
      },
      "source": [
        "# 실험을 위해서 x, y를 csv형식의 파일로 저장을 하겠습니다.\n",
        "with open(\"x.csv\", \"w\") as f:\n",
        "  for v in x.numpy():\n",
        "    f.write(\"{}\\n\".format(v))\n",
        "\n",
        "with open(\"y.csv\", \"w\") as f:\n",
        "  for v in y.numpy():\n",
        "    f.write(\"{}\\n\".format(v))\n",
        "\n",
        "print(\"x.csv의 상위 10개\")\n",
        "!head -n 10 x.csv\n",
        "print(\"y.csv의 상위 10개\")\n",
        "!head -n 10 y.csv"
      ],
      "execution_count": 19,
      "outputs": [
        {
          "output_type": "stream",
          "text": [
            "x.csv의 상위 10개\n",
            "0.0\n",
            "9.765720278664958e-06\n",
            "1.9531440557329915e-05\n",
            "2.929715992650017e-05\n",
            "3.906288111465983e-05\n",
            "4.882860230281949e-05\n",
            "5.859431985300034e-05\n",
            "6.836004467913881e-05\n",
            "7.812576222931966e-05\n",
            "8.789147977950051e-05\n",
            "y.csv의 상위 10개\n",
            "-28.275196075439453\n",
            "-29.069730758666992\n",
            "-2.0152087211608887\n",
            "-7.513141632080078\n",
            "30.965608596801758\n",
            "26.26564598083496\n",
            "-3.973937511444092\n",
            "-57.94906234741211\n",
            "15.176841735839844\n",
            "-32.390377044677734\n"
          ],
          "name": "stdout"
        }
      ]
    },
    {
      "cell_type": "markdown",
      "metadata": {
        "id": "9h2UIk1N5Fro",
        "colab_type": "text"
      },
      "source": [
        "# csv 파일을 Dataset으로 적제 #\n",
        "보통은 파일로부터 다 읽어 들이지 않고, 일부 데이터를 캐싱하면서 처리를 합니다. Dataset의 작동원리를 익히는 것이므로 복잡하지 않게 그냥 다 메모리에 적제해 보도록 하겠습니다."
      ]
    },
    {
      "cell_type": "code",
      "metadata": {
        "id": "rXNl2lyx6L3C",
        "colab_type": "code",
        "colab": {}
      },
      "source": [
        "import torch.utils.data"
      ],
      "execution_count": 0,
      "outputs": []
    },
    {
      "cell_type": "code",
      "metadata": {
        "id": "LzBan7uW5nbd",
        "colab_type": "code",
        "colab": {}
      },
      "source": [
        "class MyDataset(torch.utils.data.Dataset):\n",
        "  def __init__(self, transform=None):\n",
        "    super(MyDataset, self).__init__()\n",
        "    self.x = self.load(\"x.csv\")\n",
        "    self.y = self.load(\"y.csv\")\n",
        "    self.transform = transform\n",
        "  \n",
        "  def load(self, filename):\n",
        "    data = []\n",
        "    with open(filename, \"r\") as f:\n",
        "      for line in f.readlines():\n",
        "        line = line.strip()  # 공백제거\n",
        "        if line == \"\":\n",
        "          continue\n",
        "        data.append( float(line) )\n",
        "      return torch.tensor(data)\n",
        "    \n",
        "  def __len__(self):\n",
        "    return len(self.x)\n",
        "\n",
        "  def __getitem__(self, idx):\n",
        "    if self.transform:  # 변환이 있다면 x를 적용후 반환한다.\n",
        "      return {'x': self.transform(self.x[idx]), 'y': self.y[idx]}\n",
        "    return {'x': self.x[idx], 'y': self.y[idx]}"
      ],
      "execution_count": 0,
      "outputs": []
    },
    {
      "cell_type": "code",
      "metadata": {
        "id": "We6si6WT6HYz",
        "colab_type": "code",
        "colab": {
          "base_uri": "https://localhost:8080/",
          "height": 34
        },
        "outputId": "f617ac45-069f-4601-d806-0dd52691ad8d"
      },
      "source": [
        "# MyDataset 생성\n",
        "dataset = MyDataset()\n",
        "print(\"len(dataset)\", len(dataset))"
      ],
      "execution_count": 145,
      "outputs": [
        {
          "output_type": "stream",
          "text": [
            "len(dataset) 102400\n"
          ],
          "name": "stdout"
        }
      ]
    },
    {
      "cell_type": "markdown",
      "metadata": {
        "id": "sOac_3PU7E6g",
        "colab_type": "text"
      },
      "source": [
        "## 배열처럼 접근 ##\n",
        "\\__getitem__을 구현하고 반환을 x와 y를 짝을 이루게 반환을 시켰습니다. 파이썬은 여러개를 반환할 수 있는 언어입니다.\n",
        "1. 하나로 접근도 해본다.\n",
        "2. 여러개로도 접근해 본다. 이걸 slice방식이라고 합니다."
      ]
    },
    {
      "cell_type": "code",
      "metadata": {
        "id": "AmLmWXyU6dGr",
        "colab_type": "code",
        "colab": {
          "base_uri": "https://localhost:8080/",
          "height": 204
        },
        "outputId": "7864d38e-f329-4f67-d92b-2ef2058f9d3d"
      },
      "source": [
        "print(\"배열처럼 접근\", dataset[0])\n",
        "print(\"Slice처럼 배열처럼 접근\", dataset[0:32])"
      ],
      "execution_count": 146,
      "outputs": [
        {
          "output_type": "stream",
          "text": [
            "배열처럼 접근 {'x': tensor(0.), 'y': tensor(-28.2752)}\n",
            "Slice처럼 배열처럼 접근 {'x': tensor([0.0000e+00, 9.7657e-06, 1.9531e-05, 2.9297e-05, 3.9063e-05, 4.8829e-05,\n",
            "        5.8594e-05, 6.8360e-05, 7.8126e-05, 8.7891e-05, 9.7657e-05, 1.0742e-04,\n",
            "        1.1719e-04, 1.2695e-04, 1.3672e-04, 1.4649e-04, 1.5625e-04, 1.6602e-04,\n",
            "        1.7578e-04, 1.8555e-04, 1.9531e-04, 2.0508e-04, 2.1485e-04, 2.2461e-04,\n",
            "        2.3438e-04, 2.4414e-04, 2.5391e-04, 2.6367e-04, 2.7344e-04, 2.8321e-04,\n",
            "        2.9297e-04, 3.0274e-04]), 'y': tensor([-28.2752, -29.0697,  -2.0152,  -7.5131,  30.9656,  26.2656,  -3.9739,\n",
            "        -57.9491,  15.1768, -32.3904,  16.0102,  14.7558,   9.1081,  42.6437,\n",
            "         39.0184,  -1.9022, -35.0624, -45.3597,  22.5189,  29.3257,  23.4867,\n",
            "        -41.1303,  -4.7172,  61.1149,  28.0315, -12.0381,   0.3260,  11.0333,\n",
            "         47.2111,  53.1212,  33.9212, -19.7770])}\n"
          ],
          "name": "stdout"
        }
      ]
    },
    {
      "cell_type": "markdown",
      "metadata": {
        "id": "ttQBw-Vi7lPf",
        "colab_type": "text"
      },
      "source": [
        "##  MyDataset, DataLoader를 활용해서 SGD에 붙여보자 ##\n",
        "\n",
        "크게 바뀐 코드는 없습니다. 기존에 x,y를 쓰던것을 Dataset으로 교체되었습니다. 이것으로 실제 구현 파트가 잘 캡슐화되어 활용하는 입장에서는 고민하지 않고 쓰게 됩니다. 내부적으로 훈련셋을 증폭하기 위해서 잡음을 섞거나, 순서를 무작위로 변경하고나, 캐시하는 등 복잡한 과정이 숨겨지는 장점이 있습니다.\n",
        "\n",
        "### DataLoader ###\n",
        "DataLoader는 Dataset과 mini batch의 크기를 받아서, 훈련할 수 있는 mini batch크기에 훈련셋을 반환해 주는 반복자입니다. 또한 가끔은 처리보다 파일에서 메모리로 적제하는게 느린 경우가 있습니다. 학습 처리 속도에 지장을 최소화 하도록 병렬로 처리를 합니다. 물론 자원이 충분해야 합니다. 예를들어 CPU가 4개 달린 머신이어야 합니다. 이 부분도 저희가 전체를 구현없이 가능하도록 DataLoader가 지원합니다.\n",
        "\n",
        "\n",
        "1. Dataset: 데이터를 파일로부터 읽는 부분\n",
        "2. batch_size: Mini Batch의 크기\n",
        "3. shuffle: 훈련셋을 섞는 기능, 매번 같은 훈련셋이 아니도록 만들어 주는 기능. 훈련셋들간에 독립적이 되도록 하는 목적\n",
        "3. num_workers가 병렬처리의 개수를 지정합니다. 이것은 하나하나씩 Dataset.\\_\\_getitem\\_\\_을 호출합니다. 그리고 내부적으로 mini batch크기로 취합처리해서 하나로 반환해 줍니다.\n"
      ]
    },
    {
      "cell_type": "code",
      "metadata": {
        "id": "-BOFYhlA6zco",
        "colab_type": "code",
        "colab": {
          "base_uri": "https://localhost:8080/",
          "height": 544
        },
        "outputId": "c902a04d-4631-4334-ad8f-0d14d740d443"
      },
      "source": [
        "# Model 정의\n",
        "model = Model()\n",
        "\n",
        "# Optimizer 설정\n",
        "epoch = 10\n",
        "mini_batch = 1024\n",
        "learning_rate = 1e-4\n",
        "optimizer = torch.optim.SGD(params=model.parameters(), lr=learning_rate)\n",
        "\n",
        "# MyDataset을 구현\n",
        "dataset = MyDataset()\n",
        "L_list = []\n",
        "\n",
        "\n",
        "nsample = len(dataset)\n",
        "print(\"훈련셋 개수\", nsample)\n",
        "L_sum = 0\n",
        "\n",
        "loader = torch.utils.data.DataLoader(dataset, batch_size=mini_batch, shuffle=True, num_workers=4)\n",
        "for e_iter in range(epoch):  # epoch loop\n",
        "  for step, mini_batch in enumerate(loader):   # minibatch loop\n",
        "    pred_y = model(mini_batch['x'])\n",
        "    L = loss(pred_y, mini_batch['y'])\n",
        "    L_sum += L\n",
        "    optimizer.zero_grad() \n",
        "    L.backward()\n",
        "    optimizer.step()\n",
        "\n",
        "    if step % 50 == 0:\n",
        "      print(\"Epoch:{}/Step:{}, L:{:.5}, w={}, b={:.3}, grad(w)={:.3}, grad(b)={:.3}\".format(e_iter, step, L.item(), model.w.item(), model.b.item(), model.w.grad.item(), model.b.grad.item()))\n",
        "    step += 1\n",
        "  print(\"==> End Epoch #{}, loss=L:{:.5}\".format(e_iter, L_sum/max_step))"
      ],
      "execution_count": 147,
      "outputs": [
        {
          "output_type": "stream",
          "text": [
            "훈련셋 개수 102400\n",
            "Epoch:0/Step:0, L:5.4652e+06, w=8.727423667907715, b=12.6, grad(w)=-7.96e+04, grad(b)=-1.19e+05\n",
            "Epoch:0/Step:50, L:1.0365e+06, w=68.2392578125, b=27.7, grad(w)=-4.31e+03, grad(b)=5.31e+03\n",
            "==> End Epoch #0, loss=L:1.2224e+06\n",
            "Epoch:1/Step:0, L:9.4121e+05, w=89.37413024902344, b=16.8, grad(w)=-4.18e+03, grad(b)=1.56e+02\n",
            "Epoch:1/Step:50, L:9.2445e+05, w=99.7844009399414, b=11.1, grad(w)=-1.44e+03, grad(b)=9.9e+02\n",
            "==> End Epoch #1, loss=L:2.1603e+06\n",
            "Epoch:2/Step:0, L:9.1439e+05, w=104.68040466308594, b=8.01, grad(w)=1.23e+03, grad(b)=2.42e+03\n",
            "Epoch:2/Step:50, L:8.6979e+05, w=107.48329162597656, b=6.7, grad(w)=1.46e+03, grad(b)=2.96e+03\n",
            "==> End Epoch #2, loss=L:3.0849e+06\n",
            "Epoch:3/Step:0, L:9.2409e+05, w=108.84705352783203, b=5.69, grad(w)=5.22e+02, grad(b)=1.42e+03\n",
            "Epoch:3/Step:50, L:9.216e+05, w=109.58184051513672, b=5.59, grad(w)=-1.57e+03, grad(b)=-1.62e+03\n",
            "==> End Epoch #3, loss=L:4.0087e+06\n",
            "Epoch:4/Step:0, L:9.0182e+05, w=110.17737579345703, b=5.38, grad(w)=1.16e+03, grad(b)=3.04e+03\n",
            "Epoch:4/Step:50, L:9.5831e+05, w=110.45574951171875, b=5.57, grad(w)=-1.34e+03, grad(b)=-2.37e+03\n",
            "==> End Epoch #4, loss=L:4.9324e+06\n",
            "Epoch:5/Step:0, L:8.9467e+05, w=110.39944458007812, b=5.29, grad(w)=6.86e+02, grad(b)=7.31e+02\n",
            "Epoch:5/Step:50, L:1.0019e+06, w=110.38617706298828, b=5.23, grad(w)=-2.52e+03, grad(b)=-3.16e+03\n",
            "==> End Epoch #5, loss=L:5.8561e+06\n",
            "Epoch:6/Step:0, L:9.5455e+05, w=110.52814483642578, b=5.54, grad(w)=1.15e+03, grad(b)=1.51e+02\n",
            "Epoch:6/Step:50, L:9.1112e+05, w=110.38717651367188, b=5.72, grad(w)=-1.44e+03, grad(b)=-2.83e+03\n",
            "==> End Epoch #6, loss=L:6.7798e+06\n",
            "Epoch:7/Step:0, L:9.2431e+05, w=110.41114807128906, b=5.04, grad(w)=2.34e+02, grad(b)=2.26e+02\n",
            "Epoch:7/Step:50, L:1.003e+06, w=110.47522735595703, b=5.18, grad(w)=6.61e+02, grad(b)=-2.42e+02\n",
            "==> End Epoch #7, loss=L:7.7035e+06\n",
            "Epoch:8/Step:0, L:9.2647e+05, w=110.35822296142578, b=4.98, grad(w)=-8.55e+02, grad(b)=-1.06e+03\n",
            "Epoch:8/Step:50, L:9.2308e+05, w=110.60589599609375, b=5.13, grad(w)=-9.94e+02, grad(b)=-1.49e+03\n",
            "==> End Epoch #8, loss=L:8.6272e+06\n",
            "Epoch:9/Step:0, L:9.1678e+05, w=110.20613861083984, b=5.15, grad(w)=9.12e+02, grad(b)=1.74e+03\n",
            "Epoch:9/Step:50, L:9.0417e+05, w=110.17778015136719, b=4.91, grad(w)=5.15e+02, grad(b)=3.96e+02\n",
            "==> End Epoch #9, loss=L:9.5508e+06\n"
          ],
          "name": "stdout"
        }
      ]
    },
    {
      "cell_type": "markdown",
      "metadata": {
        "id": "8tMkG9WI9N9i",
        "colab_type": "text"
      },
      "source": [
        "# Transform를 붙여보자 #\n",
        "PyTorch는 복잡한 변환과정을 쉽게하여 가독성을 높이도록 지원합니다. 물론 사람마다 다르므로, 반듯이 지키실 필요는 없습니다.\n",
        "\n",
        "MyDataset을 구현할 때 인자로 받을 계획입니다. 이러면 MyDataset외부에 정의된 변환이 적용된 훈련셋에 적용되어서 받을 것입니다. 특히 이것은 영상처리에서 유용하게 쓰입니다. 보통은 Dataset은 미리 정의되어 있고, 변환 방식은 나중에 정의되기 때문입니다. 그리고 이 변환과정이 좀 연산이 많습니다. 병렬처리를 하지 않으면 모델 훈련 속도 저하가 발생합니다. 그래서 병렬처리로 변환을 독립적으로 진행합니다. 이것을 도와주는 것이 DataLoader였습니다.\n",
        "\n",
        "**Transform은 함수처럼 호출 가능한 클래스**로 구현되어야 합니다. 단 병렬처리가 용이하도록 설계를 해야 합니다. 그래서 **\\_\\_call_\\_**을 구현해야 합니다. 관점은 그냥 함수 구현하듯 구현하시면 됩니다.\n",
        "\n",
        "변환을 여러단계로 해야 할 경우 모듈화가 되어 상당히 용히 합니다. 변환 과정을 공장처리 과정처럼 체인처럼 묶는 것입니다. 이것을 PyTorch에서는  **transforms.Compose**로 지원을 합니다.\n",
        "\n",
        "여기서 구현할 것은 랜덤으로 숫자를 추가해주는 방식입니다. 훈련셋에 잡음을 추가해주는 방식이라 할 수 있습니다. 많이 쓰는 방식입니다. 무조건 좋은 것은 아니고 상황에따라서 판단해야 합니다. 타당성보다는  이해를 목적으로 구현을 해보겠습니다."
      ]
    },
    {
      "cell_type": "code",
      "metadata": {
        "id": "AgpgaIKW76LI",
        "colab_type": "code",
        "colab": {}
      },
      "source": [
        "class AddNoise(object):\n",
        "  def __init__(self, noise_level):\n",
        "    self.noise_level = noise_level\n",
        "  \n",
        "  def __call__(self, x):\n",
        "    return x + torch.randn(x.size())*self.noise_level\n",
        "\n",
        "class ReScale(object):\n",
        "  def __init__(self, scale):\n",
        "    self.scale = scale\n",
        "  \n",
        "  def __call__(self, x):\n",
        "    return x*self.scale"
      ],
      "execution_count": 0,
      "outputs": []
    },
    {
      "cell_type": "code",
      "metadata": {
        "id": "hpUBfEit_mfg",
        "colab_type": "code",
        "colab": {
          "base_uri": "https://localhost:8080/",
          "height": 85
        },
        "outputId": "9ce161f1-1e83-4052-9208-b8830a1f8583"
      },
      "source": [
        "add_noise = AddNoise(0.0001)\n",
        "rescale = ReScale(-1.0)   # 음수값 처리\n",
        "\n",
        "test_input =  torch.tensor([0.1,0.2], dtype=torch.float32)\n",
        "print(\"test_input\", test_input)\n",
        "print(\"add_noise1 변환\", add_noise(test_input))\n",
        "print(\"rescale 변한\", rescale(test_input))\n",
        "print(\"복합 변환:\", rescale(add_noise(test_input)))"
      ],
      "execution_count": 160,
      "outputs": [
        {
          "output_type": "stream",
          "text": [
            "test_input tensor([0.1000, 0.2000])\n",
            "add_noise1 변환 tensor([0.0999, 0.2000])\n",
            "rescale 변한 tensor([-0.1000, -0.2000])\n",
            "복합 변환: tensor([-0.1000, -0.1999])\n"
          ],
          "name": "stdout"
        }
      ]
    },
    {
      "cell_type": "markdown",
      "metadata": {
        "id": "PMiwY1qxBmdl",
        "colab_type": "text"
      },
      "source": [
        "## 복합 변환을 Compose로 묶어 버리자! ##\n",
        "\n",
        "보통은 이러한 변환이 영상처리에 많이 있습니다. 영상 처리는 많은 변환을 가지고 있어서, 사용자가 모든 것을 구현할 필요가 없습니다. 사실 지금 이 예에서는 이정도로 정성과 노력을 들일 필요는 없지만, 추후에 이해 목적으로 사용해 봅시다!"
      ]
    },
    {
      "cell_type": "code",
      "metadata": {
        "id": "hhVPyfHVAOXC",
        "colab_type": "code",
        "colab": {
          "base_uri": "https://localhost:8080/",
          "height": 34
        },
        "outputId": "33a67098-848e-41f3-bb37-aa20387b582c"
      },
      "source": [
        "import torchvision.transforms\n",
        "compose = torchvision.transforms.Compose([add_noise, rescale])\n",
        "print(compose(test_input))"
      ],
      "execution_count": 150,
      "outputs": [
        {
          "output_type": "stream",
          "text": [
            "tensor([ 0.9853, -0.8447])\n"
          ],
          "name": "stdout"
        }
      ]
    },
    {
      "cell_type": "markdown",
      "metadata": {
        "id": "qW2vgLYhCrCn",
        "colab_type": "text"
      },
      "source": [
        "## Transform과 Compose를 기존 SGD에 붙여 보자##\n",
        "지금은 매우 비효율적입니다. 이유는 Transform과정이나 캐싱이 불필요하기 때문입니다. 추후에 대용량으로 처리할 때 도움이 될 것입니다. 그때 기억해 내시면 됩니다."
      ]
    },
    {
      "cell_type": "code",
      "metadata": {
        "id": "vmPPYDP2Bzm0",
        "colab_type": "code",
        "colab": {
          "base_uri": "https://localhost:8080/",
          "height": 544
        },
        "outputId": "2870e2cb-c293-408c-f50a-2ebea51777ea"
      },
      "source": [
        "# Model 정의\n",
        "model = Model()\n",
        "\n",
        "# Optimizer 설정\n",
        "epoch = 10\n",
        "mini_batch = 1024\n",
        "learning_rate = 1e-4\n",
        "optimizer = torch.optim.SGD(params=model.parameters(), lr=learning_rate)\n",
        "\n",
        "# Compose 정의\n",
        "add_noise = AddNoise(1e-5)\n",
        "rescale = ReScale(-1.0)\n",
        "compose = torchvision.transforms.Compose([add_noise, rescale])\n",
        "\n",
        "\n",
        "# MyDataset에 compose를 연결한다.\n",
        "dataset = MyDataset(transform=compose)\n",
        "L_list = []\n",
        "\n",
        "nsample = len(dataset)\n",
        "loader = torch.utils.data.DataLoader(dataset, batch_size=mini_batch, shuffle=True)\n",
        "print(\"훈련셋 개수\", nsample)\n",
        "L_sum = 0\n",
        "for e_iter in range(epoch):  # epoch loop\n",
        "  for step, mini_batch in enumerate(loader):   # minibatch loop\n",
        "    pred_y = model(mini_batch['x'])\n",
        "    L = loss(pred_y, mini_batch['y'])\n",
        "    L_sum += L\n",
        "    optimizer.zero_grad() \n",
        "    L.backward()\n",
        "    optimizer.step()\n",
        "\n",
        "    if step % 50 == 0:\n",
        "      print(\"Epoch:{}/Step:{}, L:{:.5}, w={}, b={:.3}, grad(w)={:.3}, grad(b)={:.3}\".format(e_iter, step, L.item(), model.w.item(), model.b.item(), model.w.grad.item(), model.b.grad.item()))\n",
        "    step += 1\n",
        "  print(\"==> End Epoch #{}, loss=L:{:.5}\".format(e_iter, L_sum/max_step))"
      ],
      "execution_count": 165,
      "outputs": [
        {
          "output_type": "stream",
          "text": [
            "훈련셋 개수 102400\n",
            "Epoch:0/Step:0, L:5.7719e+06, w=-7.136871814727783, b=12.3, grad(w)=8.12e+04, grad(b)=-1.23e+05\n",
            "Epoch:0/Step:50, L:1.1374e+06, w=-67.78055572509766, b=27.4, grad(w)=6.07e+03, grad(b)=4.48e+03\n",
            "==> End Epoch #0, loss=L:1.2326e+06\n",
            "Epoch:1/Step:0, L:9.2984e+05, w=-88.94990539550781, b=16.9, grad(w)=2.71e+03, grad(b)=2.26e+03\n",
            "Epoch:1/Step:50, L:9.2673e+05, w=-99.90492248535156, b=11.3, grad(w)=3.59e+03, grad(b)=-2.47e+03\n",
            "==> End Epoch #1, loss=L:2.1709e+06\n",
            "Epoch:2/Step:0, L:9.3775e+05, w=-104.65281677246094, b=8.22, grad(w)=1.14e+03, grad(b)=-1.07e+03\n",
            "Epoch:2/Step:50, L:9.0497e+05, w=-107.83969116210938, b=6.47, grad(w)=9.35e+02, grad(b)=-9.86e+02\n",
            "==> End Epoch #2, loss=L:3.0957e+06\n",
            "Epoch:3/Step:0, L:9.3068e+05, w=-108.66633605957031, b=6.24, grad(w)=4.52e+02, grad(b)=-1.74e+03\n",
            "Epoch:3/Step:50, L:8.7983e+05, w=-109.3499526977539, b=5.52, grad(w)=1.41e+03, grad(b)=-2.22e+03\n",
            "==> End Epoch #3, loss=L:4.0195e+06\n",
            "Epoch:4/Step:0, L:9.4374e+05, w=-109.9946517944336, b=5.51, grad(w)=-91.7, grad(b)=-1.43e+03\n",
            "Epoch:4/Step:50, L:8.9438e+05, w=-110.01034545898438, b=5.13, grad(w)=3.29e+02, grad(b)=-9.77e+02\n",
            "==> End Epoch #4, loss=L:4.9432e+06\n",
            "Epoch:5/Step:0, L:9.1188e+05, w=-110.36754608154297, b=5.39, grad(w)=-19.7, grad(b)=-1.27e+03\n",
            "Epoch:5/Step:50, L:9.398e+05, w=-110.54531860351562, b=5.11, grad(w)=-6.88e+02, grad(b)=8.79e+02\n",
            "==> End Epoch #5, loss=L:5.8668e+06\n",
            "Epoch:6/Step:0, L:1.0038e+06, w=-110.46481323242188, b=5.42, grad(w)=1.04e+03, grad(b)=-2.5e+02\n",
            "Epoch:6/Step:50, L:9.4647e+05, w=-110.22555541992188, b=4.64, grad(w)=-4.88e+02, grad(b)=7.47e+02\n",
            "==> End Epoch #6, loss=L:6.7905e+06\n",
            "Epoch:7/Step:0, L:9.1402e+05, w=-110.4823226928711, b=5.42, grad(w)=-9.58e+02, grad(b)=2.44e+03\n",
            "Epoch:7/Step:50, L:9.299e+05, w=-110.55292510986328, b=5.4, grad(w)=-1.62e+03, grad(b)=1.69e+03\n",
            "==> End Epoch #7, loss=L:7.7142e+06\n",
            "Epoch:8/Step:0, L:8.9252e+05, w=-110.21011352539062, b=4.87, grad(w)=-2.66e+02, grad(b)=1.13e+03\n",
            "Epoch:8/Step:50, L:8.8965e+05, w=-110.02949523925781, b=5.32, grad(w)=-5.34e+02, grad(b)=-99.5\n",
            "==> End Epoch #8, loss=L:8.638e+06\n",
            "Epoch:9/Step:0, L:9.0054e+05, w=-110.60665130615234, b=5.12, grad(w)=-1.62e+03, grad(b)=3.22e+03\n",
            "Epoch:9/Step:50, L:1.0225e+06, w=-110.6971664428711, b=5.25, grad(w)=1.08e+03, grad(b)=-3.05e+03\n",
            "==> End Epoch #9, loss=L:9.5616e+06\n"
          ],
          "name": "stdout"
        }
      ]
    },
    {
      "cell_type": "code",
      "metadata": {
        "id": "tdild230DAwl",
        "colab_type": "code",
        "colab": {}
      },
      "source": [
        ""
      ],
      "execution_count": 0,
      "outputs": []
    }
  ]
}