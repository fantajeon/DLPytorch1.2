{
  "nbformat": 4,
  "nbformat_minor": 0,
  "metadata": {
    "colab": {
      "name": "Chapter1.ipynb",
      "version": "0.3.2",
      "provenance": [],
      "collapsed_sections": [],
      "include_colab_link": true
    },
    "kernelspec": {
      "name": "python3",
      "display_name": "Python 3"
    }
  },
  "cells": [
    {
      "cell_type": "markdown",
      "metadata": {
        "id": "view-in-github",
        "colab_type": "text"
      },
      "source": [
        "<a href=\"https://colab.research.google.com/github/fantajeon/DLPytorch1.2/blob/master/Chapter1.ipynb\" target=\"_parent\"><img src=\"https://colab.research.google.com/assets/colab-badge.svg\" alt=\"Open In Colab\"/></a>"
      ]
    },
    {
      "cell_type": "markdown",
      "metadata": {
        "id": "1amU_dj1bdOg",
        "colab_type": "text"
      },
      "source": [
        "# PyTorch 1.2 버전 설치"
      ]
    },
    {
      "cell_type": "markdown",
      "metadata": {
        "id": "32zRrpCKlhwZ",
        "colab_type": "text"
      },
      "source": [
        "Author: Hyeokjune Jeon(fantajeon@gmail.com)\n",
        "\n",
        "Colab을 통하여 작성했으며, 기본적인 패키지들은 설치가 되어있습니다. 예를들면, matplotlib같은 것입니다."
      ]
    },
    {
      "cell_type": "code",
      "metadata": {
        "id": "bDtTw0uqyGd_",
        "colab_type": "code",
        "outputId": "178e43ca-1885-4713-976e-9cfed62842ab",
        "colab": {
          "base_uri": "https://localhost:8080/",
          "height": 119
        }
      },
      "source": [
        "!pip install --upgrade torch==1.2 torchvision==0.4"
      ],
      "execution_count": 195,
      "outputs": [
        {
          "output_type": "stream",
          "text": [
            "Requirement already up-to-date: torch==1.2 in /usr/local/lib/python3.6/dist-packages (1.2.0)\n",
            "Requirement already up-to-date: torchvision==0.4 in /usr/local/lib/python3.6/dist-packages (0.4.0)\n",
            "Requirement already satisfied, skipping upgrade: numpy in /usr/local/lib/python3.6/dist-packages (from torch==1.2) (1.16.5)\n",
            "Requirement already satisfied, skipping upgrade: pillow>=4.1.1 in /usr/local/lib/python3.6/dist-packages (from torchvision==0.4) (4.3.0)\n",
            "Requirement already satisfied, skipping upgrade: six in /usr/local/lib/python3.6/dist-packages (from torchvision==0.4) (1.12.0)\n",
            "Requirement already satisfied, skipping upgrade: olefile in /usr/local/lib/python3.6/dist-packages (from pillow>=4.1.1->torchvision==0.4) (0.46)\n"
          ],
          "name": "stdout"
        }
      ]
    },
    {
      "cell_type": "markdown",
      "metadata": {
        "id": "98gNrkT-bHoe",
        "colab_type": "text"
      },
      "source": [
        "PyTorch 버전은 1.2.0 기준입니다."
      ]
    },
    {
      "cell_type": "code",
      "metadata": {
        "id": "g0KzdZT4yOcN",
        "colab_type": "code",
        "outputId": "4bb0c717-c8de-4a36-8e95-c4da7c1ee680",
        "colab": {
          "base_uri": "https://localhost:8080/",
          "height": 34
        }
      },
      "source": [
        "from __future__ import print_function\n",
        "\n",
        "import torch\n",
        "torch.__version__"
      ],
      "execution_count": 0,
      "outputs": [
        {
          "output_type": "execute_result",
          "data": {
            "text/plain": [
              "'1.2.0'"
            ]
          },
          "metadata": {
            "tags": []
          },
          "execution_count": 92
        }
      ]
    },
    {
      "cell_type": "markdown",
      "metadata": {
        "id": "QPVxCeWJdmP6",
        "colab_type": "text"
      },
      "source": [
        "차후에 화면에 그래프를 그릴 것이기 때문에 미리 import 해 놓습니다."
      ]
    },
    {
      "cell_type": "code",
      "metadata": {
        "id": "iIeBQTcWZSeX",
        "colab_type": "code",
        "colab": {}
      },
      "source": [
        "import matplotlib.pyplot as plt\n",
        "%matplotlib inline"
      ],
      "execution_count": 0,
      "outputs": []
    },
    {
      "cell_type": "markdown",
      "metadata": {
        "id": "VfeRT-1ubWLm",
        "colab_type": "text"
      },
      "source": [
        "# 이제 시작해 보겠습니다.\n",
        "이 번은 맛보기입니다. 한번 경험을 통해서 계속해서 개념들을 더해가면서, 딥러닝에 익숙해지도록 해보겠습니다. 많은 부분을 지금 당장 이해하지 않으셔도 됩니다. 바로 보고 이해하신다고 하면, 이미 기존에 기초가 탄탄하셨던 분일 것입니다. 너무 좌절하지 하지 마시고, 천천히 진행해 보겠습니다.\n",
        "\n",
        "## 꼭 알아야할 내용\n",
        "1. $x$,$y$로부터 $w$,$b$를 찾는다.\n",
        "2. 모델은 $y=wx + b$  이다.\n",
        "3. Loss 함수와 연관하여 $w$,$b$를 찾는 과정: gradient descent, learning rate.\n",
        "\n",
        "나열한 단어들간에 개념 연결입니다."
      ]
    },
    {
      "cell_type": "markdown",
      "metadata": {
        "id": "lf8ra06Cyuj4",
        "colab_type": "text"
      },
      "source": [
        "다음 주어진 x, y 데이터를 근거로 w, b를 찾아라\n",
        "\n"
      ]
    },
    {
      "cell_type": "markdown",
      "metadata": {
        "id": "aZAVys2Oyxv8",
        "colab_type": "text"
      },
      "source": [
        "$$y = wx + b$$"
      ]
    },
    {
      "cell_type": "markdown",
      "metadata": {
        "id": "u7OfjV2ofh1U",
        "colab_type": "text"
      },
      "source": [
        "일반적으로 w, b의 값을 선언할때 값을 지정을 해줘야 합니다. 보통은 random하게 값을 지정해 줍니다. \n",
        "\n",
        "계속 진행하면서 전역변수 x, y, w, b임을 기억해주세요.\n"
      ]
    },
    {
      "cell_type": "code",
      "metadata": {
        "id": "UvCnX4IIy3TP",
        "colab_type": "code",
        "outputId": "3717a66e-4b23-40b5-f404-fcb262d023a1",
        "colab": {
          "base_uri": "https://localhost:8080/",
          "height": 51
        }
      },
      "source": [
        "# dataset\n",
        "x = torch.tensor([0.1, 0.2, 0.3, 0.4, 0.5, 0.6], dtype=torch.float32)\n",
        "y = torch.tensor([15, 25, 40, 55, 65, 66], dtype=torch.float32)\n",
        "w = torch.rand(1, dtype=torch.float32, requires_grad=True) \n",
        "b = torch.rand(1, dtype=torch.float32, requires_grad=True)  \n",
        "\n",
        "# model parameter, w and b\n",
        "def model(x):\n",
        "  return w*x + b\n",
        "\n",
        "pred_y = model(x)\n",
        "print(pred_y)"
      ],
      "execution_count": 198,
      "outputs": [
        {
          "output_type": "stream",
          "text": [
            "tensor([0.2688, 0.3536, 0.4383, 0.5230, 0.6077, 0.6924],\n",
            "       grad_fn=<AddBackward0>)\n"
          ],
          "name": "stdout"
        }
      ]
    },
    {
      "cell_type": "markdown",
      "metadata": {
        "id": "m2QdPkxRI6R9",
        "colab_type": "text"
      },
      "source": [
        "이제 학습할 목표를 설계해야 합니다. x로부터 예측한 pred_y와 관촬된 y의 관계를 정의해야 합니다.\n",
        "여러가지 있지만 지금은 가장 단순한 방법인 두 변수의 오차의 제곱으로 해봅니다. \n",
        "$$L = \\frac{1}{2} \\sum { (\\text{pred_y} - y)^2 } $$를 합니다.\n",
        "보통 여기서 L을 loss 함수라고 합니다. 이 값을 줄이면, 우리가 원하는 w, b값을 정확히 찾을 수 있을 거라고 희망하면서 진행합니다."
      ]
    },
    {
      "cell_type": "code",
      "metadata": {
        "id": "5PcNi_yAKJAq",
        "colab_type": "code",
        "colab": {}
      },
      "source": [
        "def loss(pred_y, y):\n",
        "  return 0.5*(pred_y - y).pow(2.0).sum()"
      ],
      "execution_count": 0,
      "outputs": []
    },
    {
      "cell_type": "markdown",
      "metadata": {
        "id": "3nL_5bt3Kc_-",
        "colab_type": "text"
      },
      "source": [
        "이제 이 것을 미분해서 기울기가 작은쪽으로 가도록 w, b를 천천히 움직여 봅시다. PyTorch에서는 backward() 함수를 호출하여, 이 두 변수의 미분값을 계산합니다. 신기합니다!! 자동으로 미분을 해줍니다. 이건 PyTorch가 연산 과정을 내부적으로 다 기록을 해놓고(computation graph칭함), 이 기록의 근거하여 자동으로 미분값을 계산할 수 있습니다. 이 방법을 gradient descent 방법이라 합니다. 가장 단순하면서 여기서부터 학습이 시작됩니다. 너무 많은 정보는 지금 어려울 수 있으니, 그렇다 치고 넘어갑시다.\n"
      ]
    },
    {
      "cell_type": "code",
      "metadata": {
        "id": "KW_J4xq0KNET",
        "colab_type": "code",
        "outputId": "d1b1a1e8-dc57-409b-f06f-53ea8562d09d",
        "colab": {
          "base_uri": "https://localhost:8080/",
          "height": 51
        }
      },
      "source": [
        "pred_y = model(x)\n",
        "L = loss(pred_y, y)\n",
        "L.backward()\n",
        "print(\"gradient of w\", w.grad)\n",
        "print(\"gradient of b\", b.grad)"
      ],
      "execution_count": 200,
      "outputs": [
        {
          "output_type": "stream",
          "text": [
            "gradient of w tensor([-111.4425])\n",
            "gradient of b tensor([-263.1163])\n"
          ],
          "name": "stdout"
        }
      ]
    },
    {
      "cell_type": "markdown",
      "metadata": {
        "id": "gtbsXagHLIAg",
        "colab_type": "text"
      },
      "source": [
        "**Gradient Decendent 방법으로 최적화를 해보자!**\n",
        "$$\\begin{equation} \n",
        "w_{t+1} = w_{t} - \\eta \\frac{\\partial L}{\\partial w} \\\\\n",
        "b_{t+1} = b_{t} - \\eta \\frac{\\partial L}{\\partial b}\n",
        "\\end{equation}$$\n",
        "여기서 t와 t+1은 업데이트 순서입니다. $\\eta$는 learning rate라고 합니다. 이번 순서에서 $w$와  $b$를 얼마만큼 움직여서 오차($L$)를 줄여나갈지 결정해 줍니다. 주의할 점은 너무 크게 또는 작게 w와 b를 움직이면 학습에 실패할 수 있다.\n",
        "\n",
        "<img width='320px' src='https://fantajeon.github.io/DLPytorch1.2_Materials/images/gradient_descent.svg' />\n",
        "\n",
        "이 learning rate로 한번에 학습을 하지 않는다는 이야기는 반복적으로 적당하게 w,b를 움직이면서 L값을 관촬해야 한다는 것입니다."
      ]
    },
    {
      "cell_type": "markdown",
      "metadata": {
        "id": "wYHDiaDVZWse",
        "colab_type": "text"
      },
      "source": [
        "휴~ 많이 따라 오셨습니다. 이제 하나로 묶어서 L값을 관찰해보겠습니다."
      ]
    },
    {
      "cell_type": "code",
      "metadata": {
        "id": "26vsCF4dKWg7",
        "colab_type": "code",
        "outputId": "4278aeb1-6241-47d6-924b-2c40de59d376",
        "colab": {
          "base_uri": "https://localhost:8080/",
          "height": 527
        }
      },
      "source": [
        "learning_rate = 0.0001\n",
        "\n",
        "for step in range(300000):\n",
        "  pred_y = model(x)\n",
        "  L = loss(pred_y, y)\n",
        "  L.backward()\n",
        "\n",
        "  with torch.no_grad():\n",
        "    w -= learning_rate * w.grad\n",
        "    b -= learning_rate * b.grad\n",
        "    \n",
        "  if step % 10000 == 0:\n",
        "    print(\"Step:{}, L:{:.5}, w={}, b={}, grad(w)={}, grad(b)={}\".format(step, L.item(), w.item(), b.item(), w.grad.item(), b.grad.item()))\n",
        "\n",
        "  w.grad.zero_()\n",
        "  b.grad.zero_()"
      ],
      "execution_count": 201,
      "outputs": [
        {
          "output_type": "stream",
          "text": [
            "Step:0, L:6884.4, w=0.8693767786026001, b=0.23675726354122162, grad(w)=-222.88494873046875, grad(b)=-526.2326049804688\n",
            "Step:10000, L:641.6, w=28.980016708374023, b=34.90576934814453, grad(w)=-12.926342010498047, grad(b)=4.292522430419922\n",
            "Step:20000, L:482.23, w=40.86455535888672, b=30.687606811523438, grad(w)=-10.969449043273926, grad(b)=3.941272735595703\n",
            "Step:30000, L:365.46, w=51.02357482910156, b=27.037460327148438, grad(w)=-9.390022277832031, grad(b)=3.37432861328125\n",
            "Step:40000, L:279.9, w=59.72005081176758, b=23.912694931030273, grad(w)=-8.03821849822998, grad(b)=2.8883209228515625\n",
            "Step:50000, L:217.2, w=67.16404724121094, b=21.237939834594727, grad(w)=-6.881143093109131, grad(b)=2.4721946716308594\n",
            "Step:60000, L:171.25, w=73.53636169433594, b=18.948375701904297, grad(w)=-5.890407562255859, grad(b)=2.1166610717773438\n",
            "Step:70000, L:137.58, w=78.99102020263672, b=16.988433837890625, grad(w)=-5.042537689208984, grad(b)=1.811777114868164\n",
            "Step:80000, L:112.91, w=83.6611328125, b=15.310588836669922, grad(w)=-4.316199779510498, grad(b)=1.5519371032714844\n",
            "Step:90000, L:94.826, w=87.6583251953125, b=13.874333381652832, grad(w)=-3.6948814392089844, grad(b)=1.3285045623779297\n",
            "Step:100000, L:81.577, w=91.08011627197266, b=12.644923210144043, grad(w)=-3.1628000736236572, grad(b)=1.1378116607666016\n",
            "Step:110000, L:71.869, w=94.00923156738281, b=11.592632293701172, grad(w)=-2.7071080207824707, grad(b)=0.9752082824707031\n",
            "Step:120000, L:64.756, w=96.51567840576172, b=10.691770553588867, grad(w)=-2.3180456161499023, grad(b)=0.8335723876953125\n",
            "Step:130000, L:59.546, w=98.66036224365234, b=9.920710563659668, grad(w)=-1.9856067895889282, grad(b)=0.7110404968261719\n",
            "Step:140000, L:55.724, w=100.49762725830078, b=9.260795593261719, grad(w)=-1.6995105743408203, grad(b)=0.6098117828369141\n",
            "Step:150000, L:52.926, w=102.06889343261719, b=8.695859909057617, grad(w)=-1.4560213088989258, grad(b)=0.5198478698730469\n",
            "Step:160000, L:50.873, w=103.41556549072266, b=8.212348937988281, grad(w)=-1.2459206581115723, grad(b)=0.4467906951904297\n",
            "Step:170000, L:49.372, w=104.56555938720703, b=7.7988200187683105, grad(w)=-1.0678324699401855, grad(b)=0.38060760498046875\n",
            "Step:180000, L:48.27, w=105.55089569091797, b=7.444797992706299, grad(w)=-0.9146218299865723, grad(b)=0.32567596435546875\n",
            "Step:190000, L:47.461, w=106.39511108398438, b=7.141195297241211, grad(w)=-0.7839457988739014, grad(b)=0.2769203186035156\n",
            "Step:200000, L:46.87, w=107.11705780029297, b=6.8825554847717285, grad(w)=-0.6701221466064453, grad(b)=0.24115943908691406\n",
            "Step:210000, L:46.432, w=107.73983764648438, b=6.659634113311768, grad(w)=-0.5715174674987793, grad(b)=0.2114849090576172\n",
            "Step:220000, L:46.116, w=108.26593017578125, b=6.469480514526367, grad(w)=-0.4920973777770996, grad(b)=0.17535018920898438\n",
            "Step:230000, L:45.881, w=108.72162628173828, b=6.306740760803223, grad(w)=-0.41916584968566895, grad(b)=0.15587425231933594\n",
            "Step:240000, L:45.713, w=109.10309600830078, b=6.16989803314209, grad(w)=-0.35939955711364746, grad(b)=0.1358966827392578\n",
            "Step:250000, L:45.59, w=109.4267349243164, b=6.051856517791748, grad(w)=-0.3127720355987549, grad(b)=0.10729598999023438\n",
            "Step:260000, L:45.494, w=109.7215805053711, b=5.946164131164551, grad(w)=-0.26641297340393066, grad(b)=0.09232139587402344\n",
            "Step:270000, L:45.43, w=109.9504623413086, b=5.863818168640137, grad(w)=-0.2310631275177002, grad(b)=0.07888412475585938\n",
            "Step:280000, L:45.375, w=110.1793441772461, b=5.783675670623779, grad(w)=-0.19107842445373535, grad(b)=0.07868385314941406\n",
            "Step:290000, L:45.343, w=110.33467864990234, b=5.725333213806152, grad(w)=-0.17224407196044922, grad(b)=0.0548248291015625\n"
          ],
          "name": "stdout"
        }
      ]
    },
    {
      "cell_type": "markdown",
      "metadata": {
        "id": "bVtsudlDa8if",
        "colab_type": "text"
      },
      "source": [
        "w는 110근처, b는 5.7 근처에서 찾았습니다. 이제 화면에 그려보도록 하겠습니다."
      ]
    },
    {
      "cell_type": "code",
      "metadata": {
        "id": "l_X1HvHRbEoG",
        "colab_type": "code",
        "outputId": "e5f5db05-306f-43fe-dadd-4837887e19b8",
        "colab": {
          "base_uri": "https://localhost:8080/",
          "height": 286
        }
      },
      "source": [
        "# numpy는 공학자들이 많이 쓰는 공학용 계산 framework입니다. PyTorch는 Numpy와 호환이 잘 되도록 설계되었습니다.\n",
        "x_numpy = x.numpy()\n",
        "y_numpy = y.numpy()\n",
        "# 아래에 detach는 연산을 기록하는 graph에서 때낸다. 향후 어떠한 연산을 해도 그래프에 기록되지 않을 것입니다.\n",
        "pred_y = model(x).detach().numpy()  \n",
        "plt.plot(x_numpy,y_numpy,'ro')\n",
        "plt.plot(x_numpy,pred_y,label='Fitted line')"
      ],
      "execution_count": 0,
      "outputs": [
        {
          "output_type": "execute_result",
          "data": {
            "text/plain": [
              "[<matplotlib.lines.Line2D at 0x7f07eb175d68>]"
            ]
          },
          "metadata": {
            "tags": []
          },
          "execution_count": 193
        },
        {
          "output_type": "display_data",
          "data": {
            "image/png": "[encoded data removed]",
            "text/plain": [
              "<Figure size 432x288 with 1 Axes>"
            ]
          },
          "metadata": {
            "tags": []
          }
        }
      ]
    },
    {
      "cell_type": "markdown",
      "metadata": {
        "id": "a63M9J0d6hF6",
        "colab_type": "text"
      },
      "source": [
        "다음에 더 자세한 이야기(Tensor, Numpy, Computation Graph, Backpropgation, Deep learning 등)를 진행해 보겠습니다. 오늘은 이만 이 정도까지 정리해보겠습니다.\n",
        "\n",
        "**감사합니다.**"
      ]
    },
    {
      "cell_type": "markdown",
      "metadata": {
        "id": "_7nrWIAwGCiu",
        "colab_type": "text"
      },
      "source": [
        "#전체 코드입니다."
      ]
    },
    {
      "cell_type": "code",
      "metadata": {
        "id": "JyPUq26GGGaj",
        "colab_type": "code",
        "colab": {}
      },
      "source": [
        "# dataset\n",
        "x = torch.tensor([0.1, 0.2, 0.3, 0.4, 0.5, 0.6], dtype=torch.float32)\n",
        "y = torch.tensor([15, 25, 40, 55, 65, 66], dtype=torch.float32)\n",
        "w = torch.rand(1, dtype=torch.float32, requires_grad=True) \n",
        "b = torch.rand(1, dtype=torch.float32, requires_grad=True)  \n",
        "\n",
        "# model parameter, w and b\n",
        "def model(x):\n",
        "  return w*x + b\n",
        "\n",
        "def loss(pred_y, y):\n",
        "  return 0.5*(pred_y - y).pow(2.0).sum()\n",
        "\n",
        "learning_rate = 0.0001\n",
        "\n",
        "for step in range(300000):\n",
        "  pred_y = model(x)\n",
        "  L = loss(pred_y, y)\n",
        "  L.backward()\n",
        "\n",
        "  with torch.no_grad():\n",
        "    w -= learning_rate * w.grad\n",
        "    b -= learning_rate * b.grad\n",
        "\n",
        "    w.grad.zero_()\n",
        "    b.grad.zero_()\n",
        "  if step % 10000 == 0:\n",
        "    print(\"Step:{}, L:{:.5}, w={}, b={}\".format(step, L.item(), w.item(), b.item()))"
      ],
      "execution_count": 0,
      "outputs": []
    }
  ]
}