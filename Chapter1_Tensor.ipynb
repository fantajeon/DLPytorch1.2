{
  "nbformat": 4,
  "nbformat_minor": 0,
  "metadata": {
    "colab": {
      "name": "Chapter1 - Tensor.ipynb",
      "version": "0.3.2",
      "provenance": [],
      "collapsed_sections": [],
      "include_colab_link": true
    },
    "kernelspec": {
      "name": "python3",
      "display_name": "Python 3"
    }
  },
  "cells": [
    {
      "cell_type": "markdown",
      "metadata": {
        "id": "view-in-github",
        "colab_type": "text"
      },
      "source": [
        "<a href=\"https://colab.research.google.com/github/fantajeon/DLPytorch1.2/blob/master/Chapter1_Tensor.ipynb\" target=\"_parent\"><img src=\"https://colab.research.google.com/assets/colab-badge.svg\" alt=\"Open In Colab\"/></a>"
      ]
    },
    {
      "cell_type": "markdown",
      "metadata": {
        "id": "tPM3ADCm0ZqU",
        "colab_type": "text"
      },
      "source": [
        "# PyTorch의 Tensor란?"
      ]
    },
    {
      "cell_type": "markdown",
      "metadata": {
        "id": "MjCBdw9g0M8c",
        "colab_type": "text"
      },
      "source": [
        "PyTorch의 텐서를 살펴보겠습니다.\n",
        "\n",
        "Author: fantajeon@gmail.com"
      ]
    },
    {
      "cell_type": "code",
      "metadata": {
        "id": "2E5ZOqWStuSR",
        "colab_type": "code",
        "colab": {
          "base_uri": "https://localhost:8080/",
          "height": 34
        },
        "outputId": "8385f813-72e7-4d7e-e2eb-178cc2d87161"
      },
      "source": [
        "import torch\n",
        "torch.__version__"
      ],
      "execution_count": 3,
      "outputs": [
        {
          "output_type": "execute_result",
          "data": {
            "text/plain": [
              "'1.1.0'"
            ]
          },
          "metadata": {
            "tags": []
          },
          "execution_count": 3
        }
      ]
    },
    {
      "cell_type": "markdown",
      "metadata": {
        "id": "kf7ExlEHuMcm",
        "colab_type": "text"
      },
      "source": [
        "Tensor는 한가지 데이터 타입으로 구성된 다차원 배열을 의미합니다.\n",
        "PyTorch에서는 CPU와 GPU tensor 타입을 지원합니다.\n",
        "\n",
        "\n",
        "1. 스칼라: 차원이 0\n",
        "2. 벡터: 차원이 1\n",
        "3. 행렬: 차원이 2\n",
        "4. .......\n",
        "\n"
      ]
    },
    {
      "cell_type": "markdown",
      "metadata": {
        "id": "WdjItGbvxAOZ",
        "colab_type": "text"
      },
      "source": [
        "# Tensor 생성방법"
      ]
    },
    {
      "cell_type": "markdown",
      "metadata": {
        "id": "dkZREnPhuttP",
        "colab_type": "text"
      },
      "source": [
        "**Tensor는 여러가지 방식으로 생성할 수 있습니다.**"
      ]
    },
    {
      "cell_type": "code",
      "metadata": {
        "id": "DvrhC7QZuAv6",
        "colab_type": "code",
        "colab": {
          "base_uri": "https://localhost:8080/",
          "height": 34
        },
        "outputId": "0f13716b-5372-42b0-869f-e130f6e729f5"
      },
      "source": [
        "torch.tensor( [0,1,2,3,4], dtype=torch.int32) # python list를 통한 생성"
      ],
      "execution_count": 4,
      "outputs": [
        {
          "output_type": "execute_result",
          "data": {
            "text/plain": [
              "tensor([0, 1, 2, 3, 4], dtype=torch.int32)"
            ]
          },
          "metadata": {
            "tags": []
          },
          "execution_count": 4
        }
      ]
    },
    {
      "cell_type": "code",
      "metadata": {
        "id": "NU-r6f2gu6iX",
        "colab_type": "code",
        "colab": {
          "base_uri": "https://localhost:8080/",
          "height": 68
        },
        "outputId": "88fcc6dd-374a-4d71-d1aa-af6c37cdea61"
      },
      "source": [
        "torch.zeros([3,5], dtype=torch.float32)  # 내장된 함수로 생성"
      ],
      "execution_count": 5,
      "outputs": [
        {
          "output_type": "execute_result",
          "data": {
            "text/plain": [
              "tensor([[0., 0., 0., 0., 0.],\n",
              "        [0., 0., 0., 0., 0.],\n",
              "        [0., 0., 0., 0., 0.]])"
            ]
          },
          "metadata": {
            "tags": []
          },
          "execution_count": 5
        }
      ]
    },
    {
      "cell_type": "code",
      "metadata": {
        "id": "HQdMcMPMvTjd",
        "colab_type": "code",
        "colab": {
          "base_uri": "https://localhost:8080/",
          "height": 68
        },
        "outputId": "258ccbd9-e482-42ef-aadf-80fd643e486d"
      },
      "source": [
        "torch.ones([3,5], dtype=torch.float32)"
      ],
      "execution_count": 6,
      "outputs": [
        {
          "output_type": "execute_result",
          "data": {
            "text/plain": [
              "tensor([[1., 1., 1., 1., 1.],\n",
              "        [1., 1., 1., 1., 1.],\n",
              "        [1., 1., 1., 1., 1.]])"
            ]
          },
          "metadata": {
            "tags": []
          },
          "execution_count": 6
        }
      ]
    },
    {
      "cell_type": "code",
      "metadata": {
        "id": "qIaStR3yvXLH",
        "colab_type": "code",
        "colab": {
          "base_uri": "https://localhost:8080/",
          "height": 51
        },
        "outputId": "32e7742c-06c5-4342-f9e7-8823def2eaff"
      },
      "source": [
        "x = torch.tensor([2.0])\n",
        "print(x)  # tensor 출력\n",
        "print(x.item())   # Tensor --> Python 숫자 얻는 법"
      ],
      "execution_count": 8,
      "outputs": [
        {
          "output_type": "stream",
          "text": [
            "tensor([2.])\n",
            "2.0\n"
          ],
          "name": "stdout"
        }
      ]
    },
    {
      "cell_type": "code",
      "metadata": {
        "id": "CqkkzBXE06y8",
        "colab_type": "code",
        "colab": {
          "base_uri": "https://localhost:8080/",
          "height": 85
        },
        "outputId": "83f99315-143a-4698-d6e1-0cd1c5236ef1"
      },
      "source": [
        "print(\"dim\", torch.rand([]).dim() )  # 0차원 랜덤 텐서\n",
        "print(\"dim\", torch.rand(10).dim() )  # 길이가 10인 1차원 랜덤 텐서\n",
        "print(\"dim\", torch.rand(3,10).dim() )   # 길이가 3,10인 2차원 랜덤 텐서\n",
        "print(\"dim\", torch.rand(3,4,5,4,3,2).dim() )   # 길이가 3,4,5,3,2인 6차원 랜덤 텐서"
      ],
      "execution_count": 58,
      "outputs": [
        {
          "output_type": "stream",
          "text": [
            "dim 0\n",
            "dim 1\n",
            "dim 2\n",
            "dim 6\n"
          ],
          "name": "stdout"
        }
      ]
    },
    {
      "cell_type": "markdown",
      "metadata": {
        "id": "4f-ZcQrXwXjN",
        "colab_type": "text"
      },
      "source": [
        "Numpy는 Python에서 공학계산에 필요한 기본 수치해석 라이브러리입니다. 보통은 다른 Python library(matplotlib)들이 직접적으로 PyTorch의 tensor와 호환이 되질 않습니다. 그러나 numpy는 상대적으로 더 잘됩니다. 그래서 많은 machine learning 개발자들은 numpy를 혼용해서 사용합니다.\n"
      ]
    },
    {
      "cell_type": "code",
      "metadata": {
        "id": "m-kgS4vWvjg5",
        "colab_type": "code",
        "colab": {
          "base_uri": "https://localhost:8080/",
          "height": 51
        },
        "outputId": "2191b512-85f3-4b88-928e-a0e6d4535a24"
      },
      "source": [
        "import numpy as np\n",
        "\n",
        "np_x = np.array( [[1,2,3], [4,5,6]], dtype=np.float32 )\n",
        "torch.tensor(np_x)      # numpy로부터 tensor를 생성하는 방법\n"
      ],
      "execution_count": 10,
      "outputs": [
        {
          "output_type": "execute_result",
          "data": {
            "text/plain": [
              "tensor([[1., 2., 3.],\n",
              "        [4., 5., 6.]])"
            ]
          },
          "metadata": {
            "tags": []
          },
          "execution_count": 10
        }
      ]
    },
    {
      "cell_type": "markdown",
      "metadata": {
        "id": "7fm9QgInxGbd",
        "colab_type": "text"
      },
      "source": [
        "# 차원과 Tensor\n"
      ]
    },
    {
      "cell_type": "code",
      "metadata": {
        "id": "ewI4tCicwRUQ",
        "colab_type": "code",
        "colab": {
          "base_uri": "https://localhost:8080/",
          "height": 34
        },
        "outputId": "20e70184-5297-4876-9151-c7f6ad5f1e28"
      },
      "source": [
        "torch.tensor(1.9).dim()    # 0차원 --> 스칼리입니다."
      ],
      "execution_count": 20,
      "outputs": [
        {
          "output_type": "execute_result",
          "data": {
            "text/plain": [
              "0"
            ]
          },
          "metadata": {
            "tags": []
          },
          "execution_count": 20
        }
      ]
    },
    {
      "cell_type": "code",
      "metadata": {
        "id": "__Rw0XNKxQK0",
        "colab_type": "code",
        "colab": {
          "base_uri": "https://localhost:8080/",
          "height": 34
        },
        "outputId": "c64f5108-8e03-4b1b-cfa7-36581d6116b8"
      },
      "source": [
        "torch.tensor([1.9]).dim()  # 1차원 --> 개수가 1개인 벡터입니다."
      ],
      "execution_count": 25,
      "outputs": [
        {
          "output_type": "execute_result",
          "data": {
            "text/plain": [
              "1"
            ]
          },
          "metadata": {
            "tags": []
          },
          "execution_count": 25
        }
      ]
    },
    {
      "cell_type": "code",
      "metadata": {
        "id": "mLhDg1T-xkFT",
        "colab_type": "code",
        "colab": {
          "base_uri": "https://localhost:8080/",
          "height": 34
        },
        "outputId": "6f6cee77-211a-43b3-e135-865789c91760"
      },
      "source": [
        "torch.tensor([1.9, 2.0]).dim()  # 1차원 --> 개수가 2개인 벡터입니다."
      ],
      "execution_count": 26,
      "outputs": [
        {
          "output_type": "execute_result",
          "data": {
            "text/plain": [
              "1"
            ]
          },
          "metadata": {
            "tags": []
          },
          "execution_count": 26
        }
      ]
    },
    {
      "cell_type": "code",
      "metadata": {
        "id": "oy2SAG7vx1D9",
        "colab_type": "code",
        "colab": {
          "base_uri": "https://localhost:8080/",
          "height": 34
        },
        "outputId": "0fd3e63a-9e90-4aac-c8c1-e16aba12192e"
      },
      "source": [
        "torch.tensor([[1.9, 2.0, 2.1],[3.0, 4.0, 5.0]]).dim()  # 2차원 --> 2x2인 행렬입니다."
      ],
      "execution_count": 31,
      "outputs": [
        {
          "output_type": "execute_result",
          "data": {
            "text/plain": [
              "2"
            ]
          },
          "metadata": {
            "tags": []
          },
          "execution_count": 31
        }
      ]
    },
    {
      "cell_type": "markdown",
      "metadata": {
        "id": "4B44Mzwnx_zK",
        "colab_type": "text"
      },
      "source": [
        "자 그러면은 흑백 사진은 차원이 어떻게 될까요? 예를들어 800 x 600 흑백 사진이 있습니다. \n",
        "\n",
        "흑백 사진의 차원은 2차원 입니다. 그대신 각 차원마다 길이가 다른 것입니다."
      ]
    },
    {
      "cell_type": "code",
      "metadata": {
        "id": "eYRBzO7bx7_B",
        "colab_type": "code",
        "colab": {
          "base_uri": "https://localhost:8080/",
          "height": 153
        },
        "outputId": "76d197fa-43c2-4806-ea30-0d343f2cd6a2"
      },
      "source": [
        "gray_image = torch.rand( 800,600, dtype=torch.float32 )\n",
        "print(gray_image)\n",
        "print(\"dim\", gray_image.dim())"
      ],
      "execution_count": 45,
      "outputs": [
        {
          "output_type": "stream",
          "text": [
            "tensor([[0.0101, 0.5041, 0.4162,  ..., 0.0965, 0.2694, 0.3579],\n",
            "        [0.0528, 0.5480, 0.0867,  ..., 0.4708, 0.2864, 0.7728],\n",
            "        [0.1458, 0.1161, 0.7831,  ..., 0.9851, 0.3977, 0.3618],\n",
            "        ...,\n",
            "        [0.8248, 0.8539, 0.3579,  ..., 0.0632, 0.1759, 0.6595],\n",
            "        [0.7002, 0.4647, 0.3156,  ..., 0.4022, 0.8550, 0.6755],\n",
            "        [0.6247, 0.7247, 0.9561,  ..., 0.8256, 0.9608, 0.9950]])\n",
            "dim 2\n"
          ],
          "name": "stdout"
        }
      ]
    },
    {
      "cell_type": "markdown",
      "metadata": {
        "id": "9zSkRwVyyqzf",
        "colab_type": "text"
      },
      "source": [
        "이제 컬러사진 800x600은 어떻게 표현을 할까요? 컬러 사진은 보통 3원색(Red,Green,Blue)을 가집니다."
      ]
    },
    {
      "cell_type": "code",
      "metadata": {
        "id": "ERgiD6nRyVOu",
        "colab_type": "code",
        "colab": {
          "base_uri": "https://localhost:8080/",
          "height": 34
        },
        "outputId": "cb8dd210-f3ef-42c9-dffa-12e69d1dbe15"
      },
      "source": [
        "color_image = torch.rand( 800,600,3, dtype=torch.float32 )\n",
        "print(\"dim\", color_image.dim())"
      ],
      "execution_count": 46,
      "outputs": [
        {
          "output_type": "stream",
          "text": [
            "dim 3\n"
          ],
          "name": "stdout"
        }
      ]
    },
    {
      "cell_type": "markdown",
      "metadata": {
        "id": "ZcMRsgsUzQCT",
        "colab_type": "text"
      },
      "source": [
        "여러장의 사진을 묶어서 표현하려면 예를들어 32장의 컬러 사진을 tensor로 표현하고 싶습니다. \n",
        "\n",
        "보통 32장을 배치축(**batch axis**)라고 합니다. 기계가 학습을 할때 여러개의 샘플을 모아서 학습합니다."
      ]
    },
    {
      "cell_type": "code",
      "metadata": {
        "id": "F3hgrp4Cy7qf",
        "colab_type": "code",
        "colab": {
          "base_uri": "https://localhost:8080/",
          "height": 34
        },
        "outputId": "aa6b0e6c-fb4e-4ca8-ddcc-d3266415daa8"
      },
      "source": [
        "batch_color_image = torch.rand( 32,320,640,3, dtype=torch.float32 )\n",
        "print(\"dim\", batch_color_image.dim())"
      ],
      "execution_count": 48,
      "outputs": [
        {
          "output_type": "stream",
          "text": [
            "dim 4\n"
          ],
          "name": "stdout"
        }
      ]
    },
    {
      "cell_type": "markdown",
      "metadata": {
        "id": "FcUX2kJGzlWZ",
        "colab_type": "text"
      },
      "source": [
        "지금까지 다음의 과정을 학습하였습니다:\n",
        "1. tensor는 다차원 배열입니다.\n",
        "2. Python list으로부터 직접적으로 tensor를 생성하는 방법\n",
        "3. Numpy으로부터 tensor를 생성하는 방법\n",
        "4. 스칼라,벡터,행렬,흑백과 컬러 사진 형태를 tensor로 표현하는 방법"
      ]
    },
    {
      "cell_type": "markdown",
      "metadata": {
        "id": "V_b91x0j0H3K",
        "colab_type": "text"
      },
      "source": [
        "끝까지 읽어주셔서, 감사합니다."
      ]
    }
  ]
}